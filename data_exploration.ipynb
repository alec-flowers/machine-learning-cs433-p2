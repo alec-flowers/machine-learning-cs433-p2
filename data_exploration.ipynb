{
 "cells": [
  {
   "cell_type": "code",
   "execution_count": 55,
   "metadata": {},
   "outputs": [],
   "source": [
    "import scipy.io\n",
    "import numpy as np\n",
    "import pandas as pd\n",
    "import statsmodels.api as sm\n",
    "\n",
    "import matplotlib\n",
    "import matplotlib.pyplot as plt\n",
    "import seaborn as sns\n",
    "%matplotlib inline\n",
    "matplotlib.rcParams['figure.figsize'] = (15.0, 5.0)"
   ]
  },
  {
   "cell_type": "markdown",
   "metadata": {},
   "source": [
    "- Time-courses for 7 different fMRI tasks (n_regions, n_timecourses, n_subjects)\n",
    "- 379 brain regions, x timecourses, 100 subjects\n",
    "- Easy task = Motor\n",
    "- Task_Paradigms contains, for each subject, the exact temporal details on the presentation of the task.\n",
    "\n",
    "_\"For instance, the task can have 2 or more conditions, then you will have a block regressor with values going from 0 (no presentation) to the number of conditions. This signal, after being separated into the different conditions and convolved with the hemodynamic response function HRF,  is normally used in the general linear model to assess which voxels activate together with a specific condition. I can give you more details about that during the meeting.\"_ - Giulia"
   ]
  },
  {
   "cell_type": "code",
   "execution_count": 149,
   "metadata": {},
   "outputs": [],
   "source": [
    "# loading the fMRI data and one regressor for a MOTOR task\n",
    "mat = scipy.io.loadmat('./Data/X_tfMRI_MOTOR_LR_Glasser360.mat')\n",
    "mat_r = scipy.io.loadmat('./Data/TaskParadigms/100307_Regressor_tfMRI_MOTOR_LR.mat')\n",
    "mat_hrf = scipy.io.loadmat('./Data/hrf.mat')"
   ]
  },
  {
   "cell_type": "code",
   "execution_count": 155,
   "metadata": {},
   "outputs": [],
   "source": [
    "mat_swap = np.swapaxes(mat['X'], 2, 0)"
   ]
  },
  {
   "cell_type": "code",
   "execution_count": 179,
   "metadata": {},
   "outputs": [
    {
     "data": {
      "text/plain": [
       "(100, 284, 379)"
      ]
     },
     "execution_count": 179,
     "metadata": {},
     "output_type": "execute_result"
    }
   ],
   "source": [
    "mat_swap.shape"
   ]
  },
  {
   "cell_type": "code",
   "execution_count": 180,
   "metadata": {},
   "outputs": [
    {
     "data": {
      "text/plain": [
       "(379, 284, 100)"
      ]
     },
     "execution_count": 180,
     "metadata": {},
     "output_type": "execute_result"
    }
   ],
   "source": [
    "mat['X'].shape"
   ]
  },
  {
   "cell_type": "code",
   "execution_count": 193,
   "metadata": {},
   "outputs": [
    {
     "data": {
      "text/plain": [
       "array([ 0.80710496,  0.02871021,  1.42279732,  1.3818122 , -0.38490265,\n",
       "       -1.82917802, -1.60147959, -1.29059083, -2.8828249 , -1.85811446,\n",
       "       -1.27413345, -1.35872717, -1.050732  , -0.24574437, -0.26037345,\n",
       "        0.35138678,  1.33098669,  1.32635169, -0.24624972,  0.91829376,\n",
       "        0.6987303 ,  0.14187761, -0.47664639, -0.38849364, -0.9728077 ,\n",
       "       -1.21227225,  0.30487334,  0.12134862,  0.02411975,  0.57582831,\n",
       "        1.09015989,  0.14933774,  0.10302709, -0.64509457, -0.64754829,\n",
       "       -0.56769835, -0.23419528, -0.1440639 ,  1.76722877,  2.07593173,\n",
       "        1.08298471,  0.4582732 ,  0.09382032, -0.63792596,  0.88360668,\n",
       "        0.46895404, -0.31916154, -1.36457434,  0.14749381,  0.51172611,\n",
       "       -0.50275197, -1.57115218, -1.11749489,  0.09654663, -0.42954319,\n",
       "       -0.10832427, -1.14262376, -0.14363136,  1.07187902,  1.30925672,\n",
       "        0.78625817,  0.49605979, -0.28897744,  0.26879276, -0.84092953,\n",
       "       -0.01099614,  0.78795659, -0.05435288,  0.63216106, -1.09956633,\n",
       "       -0.65499784,  0.43866667,  0.73225695, -0.03371816, -0.07205673,\n",
       "        0.73650653,  0.05393939, -0.11847968,  0.68903105,  0.99950168,\n",
       "        1.85531535,  1.71081201,  2.91759603,  2.20133638,  0.67185675,\n",
       "        1.20011049,  0.05569909,  0.26356953, -0.50653427, -0.71781449,\n",
       "       -0.90498122, -1.25178172, -1.85231471, -1.86478229, -1.34807787,\n",
       "       -2.00410822, -0.90455112, -0.28076921, -0.80078979, -0.67837024,\n",
       "        1.50925674,  2.37174403,  2.42271012,  2.52664473,  2.79856339,\n",
       "        2.62661549,  1.04032259, -0.04558392,  1.18137394,  0.23718912,\n",
       "        0.86957629,  0.17695038, -0.73517598, -0.2621636 ,  0.91599007,\n",
       "        0.80428723,  1.35611554,  1.06889023,  0.83413221, -0.57872263,\n",
       "        0.13046497,  0.06230264,  1.00043761,  1.23060925,  1.3319244 ,\n",
       "        0.77071229,  0.16289404, -0.27581533, -0.80642145, -0.78632542,\n",
       "       -0.66485912,  0.09443307, -0.06599326, -0.5546999 , -0.55287177,\n",
       "       -0.34525315,  0.53439156, -0.27242504,  0.85590017,  0.26625624,\n",
       "       -0.64042938, -1.83675073, -1.24019916, -0.29846553, -1.00656847,\n",
       "       -0.65379015,  0.50489228,  0.37913679, -0.39956337,  0.13564813,\n",
       "       -0.69959803, -0.9338689 , -1.16250664, -1.1787468 , -2.27232783,\n",
       "       -1.69215555, -1.87206005, -2.08279899, -1.8886105 , -1.38077078,\n",
       "       -0.83515342, -1.63522093, -1.11918178, -0.09059782,  0.63553083,\n",
       "       -0.11613108, -0.09816241,  0.69669382,  0.72690878,  0.24645731,\n",
       "        0.25696711, -0.48814085, -0.37713351,  0.00894698,  0.02217253,\n",
       "       -0.87545506, -1.47799024, -1.15603595, -0.90484489,  0.60885488,\n",
       "       -0.08338882, -0.73865566, -0.33183941,  0.15471545,  0.85492216,\n",
       "        1.22497524,  1.19413443,  0.44672103,  1.3330326 ,  0.64323564,\n",
       "        0.6436713 ,  1.35377549,  0.17680109,  0.78674769, -0.18858797,\n",
       "        0.07708225, -0.74450178, -0.87763881, -0.97009544, -0.31983102,\n",
       "       -1.38282515, -0.67609806,  0.08851521,  0.7308511 , -0.19127201,\n",
       "        0.94188845,  0.23774183, -0.11881335,  0.69185265,  0.94946868,\n",
       "        1.07033426,  0.5818089 ,  1.07643164,  0.38001497,  0.4581707 ,\n",
       "       -0.41232628,  0.19540355,  0.57229708,  0.48675225,  1.08758546,\n",
       "        0.87285389,  0.2881966 ,  0.46469496, -0.00405817, -1.21022361,\n",
       "        0.10465699,  0.44343257,  0.52722423,  0.61024315,  0.53382415,\n",
       "       -0.59101054, -0.50759714,  0.34394424, -0.10774627,  0.1611382 ,\n",
       "       -0.5190366 , -0.72175194, -1.44949522, -1.73133488, -1.83782129,\n",
       "       -1.51794263, -1.1558366 , -0.16402157, -0.08409899, -0.79157411,\n",
       "       -0.73210481,  0.13337982,  1.12757612,  1.55282063,  0.50142864,\n",
       "        0.81858171,  0.59867064,  0.48603915, -0.90584289, -1.73483678,\n",
       "       -1.48774234, -1.06856007, -0.72207194, -0.05590942, -1.24619165,\n",
       "       -1.37289206, -0.37185445, -0.21316343, -1.00202411, -0.94868593,\n",
       "       -1.34065498, -0.94229863, -0.49249513,  0.90834787,  0.69914411,\n",
       "        1.60059503,  0.85565423,  0.34679336,  1.45295387,  0.4757369 ,\n",
       "        2.1000673 ,  0.63159964,  0.66984083,  0.77259898,  0.96812712,\n",
       "        0.2112187 ,  0.717473  ,  0.48832736,  1.07343853])"
      ]
     },
     "execution_count": 193,
     "metadata": {},
     "output_type": "execute_result"
    }
   ],
   "source": [
    "mat['X'][0,:,0]"
   ]
  },
  {
   "cell_type": "code",
   "execution_count": 163,
   "metadata": {
    "scrolled": true
   },
   "outputs": [],
   "source": [
    "# put it into a dataframe to use pandas\n",
    "m, n, r = mat['X'].shape\n",
    "fMRI_arr = np.column_stack((np.repeat(np.arange(r),n),mat_swap.reshape(-1, mat_swap.shape[-1])))\n",
    "fMRI_df = pd.DataFrame(fMRI_arr)\n",
    "fMRI_df.rename(columns={fMRI_df.columns[0]: \"subject\" }, inplace=True)"
   ]
  },
  {
   "cell_type": "code",
   "execution_count": 192,
   "metadata": {},
   "outputs": [
    {
     "data": {
      "text/html": [
       "<div>\n",
       "<style scoped>\n",
       "    .dataframe tbody tr th:only-of-type {\n",
       "        vertical-align: middle;\n",
       "    }\n",
       "\n",
       "    .dataframe tbody tr th {\n",
       "        vertical-align: top;\n",
       "    }\n",
       "\n",
       "    .dataframe thead th {\n",
       "        text-align: right;\n",
       "    }\n",
       "</style>\n",
       "<table border=\"1\" class=\"dataframe\">\n",
       "  <thead>\n",
       "    <tr style=\"text-align: right;\">\n",
       "      <th></th>\n",
       "      <th>subject</th>\n",
       "      <th>1</th>\n",
       "      <th>2</th>\n",
       "      <th>3</th>\n",
       "      <th>4</th>\n",
       "      <th>5</th>\n",
       "      <th>6</th>\n",
       "      <th>7</th>\n",
       "      <th>8</th>\n",
       "      <th>9</th>\n",
       "      <th>...</th>\n",
       "      <th>370</th>\n",
       "      <th>371</th>\n",
       "      <th>372</th>\n",
       "      <th>373</th>\n",
       "      <th>374</th>\n",
       "      <th>375</th>\n",
       "      <th>376</th>\n",
       "      <th>377</th>\n",
       "      <th>378</th>\n",
       "      <th>379</th>\n",
       "    </tr>\n",
       "  </thead>\n",
       "  <tbody>\n",
       "    <tr>\n",
       "      <th>0</th>\n",
       "      <td>0.0</td>\n",
       "      <td>0.807105</td>\n",
       "      <td>-0.469944</td>\n",
       "      <td>0.255960</td>\n",
       "      <td>0.901189</td>\n",
       "      <td>0.655219</td>\n",
       "      <td>0.190049</td>\n",
       "      <td>1.962332</td>\n",
       "      <td>1.012026</td>\n",
       "      <td>0.189477</td>\n",
       "      <td>...</td>\n",
       "      <td>0.804319</td>\n",
       "      <td>1.746649</td>\n",
       "      <td>1.221657</td>\n",
       "      <td>0.825554</td>\n",
       "      <td>2.747288</td>\n",
       "      <td>-0.969505</td>\n",
       "      <td>-0.843796</td>\n",
       "      <td>1.179021</td>\n",
       "      <td>1.338642</td>\n",
       "      <td>-0.533748</td>\n",
       "    </tr>\n",
       "    <tr>\n",
       "      <th>1</th>\n",
       "      <td>0.0</td>\n",
       "      <td>0.028710</td>\n",
       "      <td>-1.156086</td>\n",
       "      <td>0.334619</td>\n",
       "      <td>0.657000</td>\n",
       "      <td>-0.339497</td>\n",
       "      <td>0.041223</td>\n",
       "      <td>0.024062</td>\n",
       "      <td>0.605663</td>\n",
       "      <td>-0.465560</td>\n",
       "      <td>...</td>\n",
       "      <td>0.068394</td>\n",
       "      <td>-0.480765</td>\n",
       "      <td>0.448699</td>\n",
       "      <td>1.780092</td>\n",
       "      <td>0.555378</td>\n",
       "      <td>0.518578</td>\n",
       "      <td>-0.754814</td>\n",
       "      <td>0.005372</td>\n",
       "      <td>0.119521</td>\n",
       "      <td>-0.411905</td>\n",
       "    </tr>\n",
       "    <tr>\n",
       "      <th>2</th>\n",
       "      <td>0.0</td>\n",
       "      <td>1.422797</td>\n",
       "      <td>0.586408</td>\n",
       "      <td>0.787939</td>\n",
       "      <td>0.543208</td>\n",
       "      <td>1.105213</td>\n",
       "      <td>1.412824</td>\n",
       "      <td>-0.069503</td>\n",
       "      <td>-0.968812</td>\n",
       "      <td>-0.755039</td>\n",
       "      <td>...</td>\n",
       "      <td>0.101899</td>\n",
       "      <td>0.813609</td>\n",
       "      <td>0.731518</td>\n",
       "      <td>0.092218</td>\n",
       "      <td>1.438177</td>\n",
       "      <td>-1.320536</td>\n",
       "      <td>1.724987</td>\n",
       "      <td>-0.382838</td>\n",
       "      <td>0.339302</td>\n",
       "      <td>-0.766615</td>\n",
       "    </tr>\n",
       "    <tr>\n",
       "      <th>3</th>\n",
       "      <td>0.0</td>\n",
       "      <td>1.381812</td>\n",
       "      <td>0.112876</td>\n",
       "      <td>0.040436</td>\n",
       "      <td>0.889510</td>\n",
       "      <td>2.234704</td>\n",
       "      <td>1.777191</td>\n",
       "      <td>1.044210</td>\n",
       "      <td>-0.284701</td>\n",
       "      <td>-0.281078</td>\n",
       "      <td>...</td>\n",
       "      <td>1.555901</td>\n",
       "      <td>1.413162</td>\n",
       "      <td>-0.290591</td>\n",
       "      <td>2.235404</td>\n",
       "      <td>1.497536</td>\n",
       "      <td>-0.193758</td>\n",
       "      <td>0.788103</td>\n",
       "      <td>-0.436544</td>\n",
       "      <td>1.040516</td>\n",
       "      <td>0.605673</td>\n",
       "    </tr>\n",
       "    <tr>\n",
       "      <th>4</th>\n",
       "      <td>0.0</td>\n",
       "      <td>-0.384903</td>\n",
       "      <td>-2.292528</td>\n",
       "      <td>0.225186</td>\n",
       "      <td>-0.587886</td>\n",
       "      <td>-0.395003</td>\n",
       "      <td>0.535247</td>\n",
       "      <td>-0.061782</td>\n",
       "      <td>-1.151337</td>\n",
       "      <td>-0.923558</td>\n",
       "      <td>...</td>\n",
       "      <td>-1.906484</td>\n",
       "      <td>0.855558</td>\n",
       "      <td>0.454855</td>\n",
       "      <td>0.303957</td>\n",
       "      <td>-0.029345</td>\n",
       "      <td>-0.167311</td>\n",
       "      <td>-0.147738</td>\n",
       "      <td>-1.247765</td>\n",
       "      <td>-0.227408</td>\n",
       "      <td>-0.477118</td>\n",
       "    </tr>\n",
       "    <tr>\n",
       "      <th>5</th>\n",
       "      <td>0.0</td>\n",
       "      <td>-1.829178</td>\n",
       "      <td>-0.134154</td>\n",
       "      <td>-0.341849</td>\n",
       "      <td>-1.335813</td>\n",
       "      <td>-0.036363</td>\n",
       "      <td>1.392400</td>\n",
       "      <td>0.575322</td>\n",
       "      <td>-0.153894</td>\n",
       "      <td>-1.423415</td>\n",
       "      <td>...</td>\n",
       "      <td>-1.487387</td>\n",
       "      <td>-0.869412</td>\n",
       "      <td>-0.427388</td>\n",
       "      <td>0.996226</td>\n",
       "      <td>0.654037</td>\n",
       "      <td>-0.601423</td>\n",
       "      <td>-0.696618</td>\n",
       "      <td>-1.363524</td>\n",
       "      <td>-0.319632</td>\n",
       "      <td>-0.631556</td>\n",
       "    </tr>\n",
       "    <tr>\n",
       "      <th>6</th>\n",
       "      <td>0.0</td>\n",
       "      <td>-1.601480</td>\n",
       "      <td>-0.073889</td>\n",
       "      <td>-0.743807</td>\n",
       "      <td>-1.843728</td>\n",
       "      <td>-1.397714</td>\n",
       "      <td>0.647900</td>\n",
       "      <td>0.080028</td>\n",
       "      <td>-0.573169</td>\n",
       "      <td>0.845577</td>\n",
       "      <td>...</td>\n",
       "      <td>-0.317511</td>\n",
       "      <td>0.357172</td>\n",
       "      <td>0.930101</td>\n",
       "      <td>1.436441</td>\n",
       "      <td>1.182670</td>\n",
       "      <td>0.583949</td>\n",
       "      <td>-1.498763</td>\n",
       "      <td>-1.674117</td>\n",
       "      <td>-0.496911</td>\n",
       "      <td>-0.684840</td>\n",
       "    </tr>\n",
       "    <tr>\n",
       "      <th>7</th>\n",
       "      <td>0.0</td>\n",
       "      <td>-1.290591</td>\n",
       "      <td>-0.677583</td>\n",
       "      <td>0.461357</td>\n",
       "      <td>-0.324009</td>\n",
       "      <td>-0.088280</td>\n",
       "      <td>0.753504</td>\n",
       "      <td>0.523809</td>\n",
       "      <td>-0.475005</td>\n",
       "      <td>0.298739</td>\n",
       "      <td>...</td>\n",
       "      <td>-0.633350</td>\n",
       "      <td>-1.241455</td>\n",
       "      <td>0.595971</td>\n",
       "      <td>0.354317</td>\n",
       "      <td>0.931008</td>\n",
       "      <td>0.319585</td>\n",
       "      <td>0.861594</td>\n",
       "      <td>0.728591</td>\n",
       "      <td>0.025661</td>\n",
       "      <td>0.249881</td>\n",
       "    </tr>\n",
       "    <tr>\n",
       "      <th>8</th>\n",
       "      <td>0.0</td>\n",
       "      <td>-2.882825</td>\n",
       "      <td>0.357089</td>\n",
       "      <td>0.105501</td>\n",
       "      <td>-2.060085</td>\n",
       "      <td>-1.720933</td>\n",
       "      <td>0.218931</td>\n",
       "      <td>-0.073174</td>\n",
       "      <td>-0.458635</td>\n",
       "      <td>0.118975</td>\n",
       "      <td>...</td>\n",
       "      <td>-1.628469</td>\n",
       "      <td>-1.383068</td>\n",
       "      <td>-0.433292</td>\n",
       "      <td>-0.020693</td>\n",
       "      <td>0.367916</td>\n",
       "      <td>0.393391</td>\n",
       "      <td>-0.069571</td>\n",
       "      <td>-0.989038</td>\n",
       "      <td>-0.183225</td>\n",
       "      <td>-0.015542</td>\n",
       "    </tr>\n",
       "    <tr>\n",
       "      <th>9</th>\n",
       "      <td>0.0</td>\n",
       "      <td>-1.858114</td>\n",
       "      <td>-0.725702</td>\n",
       "      <td>-0.339957</td>\n",
       "      <td>-1.701816</td>\n",
       "      <td>-0.831504</td>\n",
       "      <td>1.006856</td>\n",
       "      <td>0.116724</td>\n",
       "      <td>0.108315</td>\n",
       "      <td>-0.209871</td>\n",
       "      <td>...</td>\n",
       "      <td>-0.843169</td>\n",
       "      <td>-0.987259</td>\n",
       "      <td>0.570927</td>\n",
       "      <td>1.423897</td>\n",
       "      <td>0.613912</td>\n",
       "      <td>-0.646657</td>\n",
       "      <td>-0.134669</td>\n",
       "      <td>-2.129105</td>\n",
       "      <td>-1.675874</td>\n",
       "      <td>-0.781384</td>\n",
       "    </tr>\n",
       "  </tbody>\n",
       "</table>\n",
       "<p>10 rows × 380 columns</p>\n",
       "</div>"
      ],
      "text/plain": [
       "   subject         1         2         3         4         5         6  \\\n",
       "0      0.0  0.807105 -0.469944  0.255960  0.901189  0.655219  0.190049   \n",
       "1      0.0  0.028710 -1.156086  0.334619  0.657000 -0.339497  0.041223   \n",
       "2      0.0  1.422797  0.586408  0.787939  0.543208  1.105213  1.412824   \n",
       "3      0.0  1.381812  0.112876  0.040436  0.889510  2.234704  1.777191   \n",
       "4      0.0 -0.384903 -2.292528  0.225186 -0.587886 -0.395003  0.535247   \n",
       "5      0.0 -1.829178 -0.134154 -0.341849 -1.335813 -0.036363  1.392400   \n",
       "6      0.0 -1.601480 -0.073889 -0.743807 -1.843728 -1.397714  0.647900   \n",
       "7      0.0 -1.290591 -0.677583  0.461357 -0.324009 -0.088280  0.753504   \n",
       "8      0.0 -2.882825  0.357089  0.105501 -2.060085 -1.720933  0.218931   \n",
       "9      0.0 -1.858114 -0.725702 -0.339957 -1.701816 -0.831504  1.006856   \n",
       "\n",
       "          7         8         9  ...       370       371       372       373  \\\n",
       "0  1.962332  1.012026  0.189477  ...  0.804319  1.746649  1.221657  0.825554   \n",
       "1  0.024062  0.605663 -0.465560  ...  0.068394 -0.480765  0.448699  1.780092   \n",
       "2 -0.069503 -0.968812 -0.755039  ...  0.101899  0.813609  0.731518  0.092218   \n",
       "3  1.044210 -0.284701 -0.281078  ...  1.555901  1.413162 -0.290591  2.235404   \n",
       "4 -0.061782 -1.151337 -0.923558  ... -1.906484  0.855558  0.454855  0.303957   \n",
       "5  0.575322 -0.153894 -1.423415  ... -1.487387 -0.869412 -0.427388  0.996226   \n",
       "6  0.080028 -0.573169  0.845577  ... -0.317511  0.357172  0.930101  1.436441   \n",
       "7  0.523809 -0.475005  0.298739  ... -0.633350 -1.241455  0.595971  0.354317   \n",
       "8 -0.073174 -0.458635  0.118975  ... -1.628469 -1.383068 -0.433292 -0.020693   \n",
       "9  0.116724  0.108315 -0.209871  ... -0.843169 -0.987259  0.570927  1.423897   \n",
       "\n",
       "        374       375       376       377       378       379  \n",
       "0  2.747288 -0.969505 -0.843796  1.179021  1.338642 -0.533748  \n",
       "1  0.555378  0.518578 -0.754814  0.005372  0.119521 -0.411905  \n",
       "2  1.438177 -1.320536  1.724987 -0.382838  0.339302 -0.766615  \n",
       "3  1.497536 -0.193758  0.788103 -0.436544  1.040516  0.605673  \n",
       "4 -0.029345 -0.167311 -0.147738 -1.247765 -0.227408 -0.477118  \n",
       "5  0.654037 -0.601423 -0.696618 -1.363524 -0.319632 -0.631556  \n",
       "6  1.182670  0.583949 -1.498763 -1.674117 -0.496911 -0.684840  \n",
       "7  0.931008  0.319585  0.861594  0.728591  0.025661  0.249881  \n",
       "8  0.367916  0.393391 -0.069571 -0.989038 -0.183225 -0.015542  \n",
       "9  0.613912 -0.646657 -0.134669 -2.129105 -1.675874 -0.781384  \n",
       "\n",
       "[10 rows x 380 columns]"
      ]
     },
     "execution_count": 192,
     "metadata": {},
     "output_type": "execute_result"
    }
   ],
   "source": [
    "fMRI_df[0:10]"
   ]
  },
  {
   "cell_type": "code",
   "execution_count": 165,
   "metadata": {},
   "outputs": [],
   "source": [
    "# mangling the hrf\n",
    "hrf = mat_hrf['hrf'].squeeze()\n",
    "pad = np.zeros(10, dtype=hrf.dtype)\n",
    "hrf = np.concatenate((pad, hrf, pad))"
   ]
  },
  {
   "cell_type": "markdown",
   "metadata": {},
   "source": [
    "## Structure of fMRI_df\n",
    "\n",
    "- Column 0 indicates the subject, i.e. `fMRI_df['subject']==0` selects the fMRI data of one subject\n",
    "- Column 1 - 379 indicate the fMRI data for the 379 regions"
   ]
  },
  {
   "cell_type": "markdown",
   "metadata": {},
   "source": [
    "## Fitting the GLM\n",
    "\n",
    "Now we want to fit a GLM for one subject and one region. To do this, we execute the following steps:\n",
    "- get a regressor (subject and regressor have to match)\n",
    "- one-hot encode the regressor function\n",
    "- convolve the HRF and regressors\n",
    "- build the GLM\n",
    "- check the p-value for the regressor parameters"
   ]
  },
  {
   "cell_type": "code",
   "execution_count": 166,
   "metadata": {},
   "outputs": [
    {
     "data": {
      "image/png": "[encoded data removed]",
      "text/plain": [
       "<Figure size 1080x360 with 1 Axes>"
      ]
     },
     "metadata": {
      "needs_background": "light"
     },
     "output_type": "display_data"
    }
   ],
   "source": [
    "# plotting the fMRI data for subject 0 for region 1\n",
    "fMRI_df[fMRI_df['subject']==0].iloc[:,1].plot()\n",
    "plt.title(\"fMRI Data for Subject 0 for Region 1\")\n",
    "plt.show()"
   ]
  },
  {
   "cell_type": "code",
   "execution_count": 167,
   "metadata": {
    "scrolled": true
   },
   "outputs": [
    {
     "data": {
      "image/png": "[encoded data removed]",
      "text/plain": [
       "<Figure size 1080x360 with 1 Axes>"
      ]
     },
     "metadata": {
      "needs_background": "light"
     },
     "output_type": "display_data"
    }
   ],
   "source": [
    "# plotting the regressor\n",
    "plt.plot(np.arange(0,284,1),mat_r['Regressor'].T)\n",
    "plt.title(\"Plotting a Regressor function\")\n",
    "plt.show()"
   ]
  },
  {
   "cell_type": "code",
   "execution_count": 168,
   "metadata": {},
   "outputs": [
    {
     "data": {
      "image/png": "[encoded data removed]",
      "text/plain": [
       "<Figure size 1080x360 with 1 Axes>"
      ]
     },
     "metadata": {
      "needs_background": "light"
     },
     "output_type": "display_data"
    },
    {
     "data": {
      "text/plain": [
       "array([ 0.00000000e+00,  0.00000000e+00,  0.00000000e+00,  0.00000000e+00,\n",
       "        0.00000000e+00,  0.00000000e+00,  0.00000000e+00,  0.00000000e+00,\n",
       "        0.00000000e+00,  0.00000000e+00,  0.00000000e+00,  6.78030213e-04,\n",
       "        1.05610475e-02,  3.90365341e-02,  8.00705224e-02,  1.18940164e-01,\n",
       "        1.44055594e-01,  1.51536354e-01,  1.43743327e-01,  1.25909187e-01,\n",
       "        1.03401506e-01,  8.03144564e-02,  5.91378907e-02,  4.10156987e-02,\n",
       "        2.61970392e-02,  1.44532864e-02,  5.37224432e-03, -1.47564068e-03,\n",
       "       -6.46758900e-03, -9.91635549e-03, -1.20836316e-02, -1.31983996e-02,\n",
       "       -1.34701860e-02, -1.30945875e-02, -1.22525424e-02, -1.11062948e-02,\n",
       "       -9.79484787e-03, -8.43079802e-03, -7.09940444e-03, -5.85991141e-03,\n",
       "       -4.74862728e-03, -3.78305490e-03, -2.96638195e-03, -2.29178112e-03,\n",
       "       -1.74615867e-03, -1.31317048e-03, -9.75468991e-04, -7.16241577e-04,\n",
       "       -5.20154695e-04, -3.73837871e-04, -2.66037511e-04, -1.87553278e-04,\n",
       "       -1.31046745e-04, -9.07885333e-05, -6.23892113e-05,  0.00000000e+00,\n",
       "        0.00000000e+00,  0.00000000e+00,  0.00000000e+00,  0.00000000e+00,\n",
       "        0.00000000e+00,  0.00000000e+00,  0.00000000e+00,  0.00000000e+00,\n",
       "        0.00000000e+00])"
      ]
     },
     "execution_count": 168,
     "metadata": {},
     "output_type": "execute_result"
    }
   ],
   "source": [
    "# plotting the HRF\n",
    "# plotting the regressor\n",
    "plt.plot(hrf)\n",
    "plt.title(\"Plotting the HRF\")\n",
    "plt.show()\n",
    "hrf"
   ]
  },
  {
   "cell_type": "markdown",
   "metadata": {},
   "source": [
    "Need to one hot encode the task paradigm data and tie that to the time \n",
    "Same model for all voxels but different parameter values\n",
    "Regression is ordinary least squares -> just use statsmodel?\n",
    "Try linear combinations of parameters\n",
    "t = effect size / uncertanty of size\n",
    "Get data - get model - get weights - get error - contrast - effect size - uncertanty\n",
    "Hypothesis Test : H0 = No expression\n",
    "    - Use student t-distribution\n",
    "\n",
    "Next analyze over the group vs just one subject\n",
    "\n",
    "Other things to try:\n",
    "-Smoothing / wavelets\n",
    "-generalized linear models (non-gaussian densities)\n",
    "**-non parametric tests**\n",
    "\n",
    "Popular to do independent component analysis\n",
    "\n",
    "\n",
    "Note:\n",
    "General Linear Model Assumptions\n",
    "Assumptions\n",
    "fixed impulse response\n",
    "however, inter-subject variability [Aguirre et al., 1998]\n",
    "stationarity\n",
    "space\n",
    "all brain regions respond the same way\n",
    "however, intra-subject variability [Schacter et al., 1997]\n",
    "time\n",
    "all responses are the same\n",
    "however, effects from habituation, anticipation, and “background” state\n",
    "superposition\n",
    "response to separate events simply sum up\n",
    "however, in practice non-linear effects (saturation) and interaction\n",
    "\n",
    "\n",
    "Refinements:\n",
    "\n",
    "Eliminate low-frequency components\n",
    "due to\n",
    "aliased cardiac and respiratory cycle\n",
    "scanner drift\n",
    "low-frequency regressors\n",
    "discrete cosine transform basis set\n",
    "acts as a high-pass filter\n",
    "hidden in SPM’s design matrix!\n",
    "Add motion parameters as regressors\n",
    "Go beyond “white noise” assumption\n",
    "SPM: auto-regressive model order 1, AR(1)"
   ]
  },
  {
   "cell_type": "code",
   "execution_count": 169,
   "metadata": {},
   "outputs": [],
   "source": [
    "# building a dataframe with the regressors\n",
    "regressors_df = pd.DataFrame(mat_r['Regressor'])\n",
    "regressors_df = regressors_df.transpose()"
   ]
  },
  {
   "cell_type": "code",
   "execution_count": 170,
   "metadata": {
    "scrolled": true
   },
   "outputs": [
    {
     "data": {
      "text/html": [
       "<div>\n",
       "<style scoped>\n",
       "    .dataframe tbody tr th:only-of-type {\n",
       "        vertical-align: middle;\n",
       "    }\n",
       "\n",
       "    .dataframe tbody tr th {\n",
       "        vertical-align: top;\n",
       "    }\n",
       "\n",
       "    .dataframe thead th {\n",
       "        text-align: right;\n",
       "    }\n",
       "</style>\n",
       "<table border=\"1\" class=\"dataframe\">\n",
       "  <thead>\n",
       "    <tr style=\"text-align: right;\">\n",
       "      <th></th>\n",
       "      <th>1</th>\n",
       "      <th>2</th>\n",
       "      <th>3</th>\n",
       "      <th>4</th>\n",
       "      <th>5</th>\n",
       "    </tr>\n",
       "  </thead>\n",
       "  <tbody>\n",
       "    <tr>\n",
       "      <th>0</th>\n",
       "      <td>0</td>\n",
       "      <td>0</td>\n",
       "      <td>0</td>\n",
       "      <td>0</td>\n",
       "      <td>0</td>\n",
       "    </tr>\n",
       "    <tr>\n",
       "      <th>1</th>\n",
       "      <td>0</td>\n",
       "      <td>0</td>\n",
       "      <td>0</td>\n",
       "      <td>0</td>\n",
       "      <td>0</td>\n",
       "    </tr>\n",
       "    <tr>\n",
       "      <th>2</th>\n",
       "      <td>0</td>\n",
       "      <td>0</td>\n",
       "      <td>0</td>\n",
       "      <td>0</td>\n",
       "      <td>0</td>\n",
       "    </tr>\n",
       "    <tr>\n",
       "      <th>3</th>\n",
       "      <td>0</td>\n",
       "      <td>0</td>\n",
       "      <td>0</td>\n",
       "      <td>0</td>\n",
       "      <td>0</td>\n",
       "    </tr>\n",
       "    <tr>\n",
       "      <th>4</th>\n",
       "      <td>0</td>\n",
       "      <td>0</td>\n",
       "      <td>0</td>\n",
       "      <td>0</td>\n",
       "      <td>0</td>\n",
       "    </tr>\n",
       "  </tbody>\n",
       "</table>\n",
       "</div>"
      ],
      "text/plain": [
       "   1  2  3  4  5\n",
       "0  0  0  0  0  0\n",
       "1  0  0  0  0  0\n",
       "2  0  0  0  0  0\n",
       "3  0  0  0  0  0\n",
       "4  0  0  0  0  0"
      ]
     },
     "execution_count": 170,
     "metadata": {},
     "output_type": "execute_result"
    }
   ],
   "source": [
    "# one-hot encoding the regressors\n",
    "regressors_df_sep = pd.get_dummies(regressors_df[0])\n",
    "# dropping column 0 as to not have a overdetemined model (dummy variable trap)\n",
    "regressors_df_sep.drop(columns=[0], inplace=True)\n",
    "regressors_df_sep.head(5)"
   ]
  },
  {
   "cell_type": "code",
   "execution_count": 171,
   "metadata": {},
   "outputs": [
    {
     "data": {
      "text/plain": [
       "0      0.807105\n",
       "1      0.028710\n",
       "2      1.422797\n",
       "3      1.381812\n",
       "4     -0.384903\n",
       "         ...   \n",
       "279    0.968127\n",
       "280    0.211219\n",
       "281    0.717473\n",
       "282    0.488327\n",
       "283    1.073439\n",
       "Name: 1, Length: 284, dtype: float64"
      ]
     },
     "execution_count": 171,
     "metadata": {},
     "output_type": "execute_result"
    }
   ],
   "source": [
    "fMRI_df[fMRI_df['subject']==0].iloc[:,1]"
   ]
  },
  {
   "cell_type": "code",
   "execution_count": 172,
   "metadata": {
    "scrolled": true
   },
   "outputs": [
    {
     "data": {
      "image/png": "[encoded data removed]",
      "text/plain": [
       "<Figure size 1080x360 with 1 Axes>"
      ]
     },
     "metadata": {
      "needs_background": "light"
     },
     "output_type": "display_data"
    }
   ],
   "source": [
    "# testing the convolution for one regressor (regressor 5) for subject 0 region 1\n",
    "subject_0_df = fMRI_df[fMRI_df['subject']==0].iloc[:,1].reset_index(drop=True)\n",
    "test_conv = scipy.signal.convolve(regressors_df_sep[5], hrf, 'full')\n",
    "plt.plot(test_conv, label='Convolution of HRF with Regressor 5')\n",
    "plt.plot(regressors_df_sep[5], label='Regressor 5')\n",
    "plt.plot(hrf, label='HRF')\n",
    "plt.legend()\n",
    "plt.show()"
   ]
  },
  {
   "cell_type": "code",
   "execution_count": 174,
   "metadata": {},
   "outputs": [
    {
     "data": {
      "text/html": [
       "<div>\n",
       "<style scoped>\n",
       "    .dataframe tbody tr th:only-of-type {\n",
       "        vertical-align: middle;\n",
       "    }\n",
       "\n",
       "    .dataframe tbody tr th {\n",
       "        vertical-align: top;\n",
       "    }\n",
       "\n",
       "    .dataframe thead th {\n",
       "        text-align: right;\n",
       "    }\n",
       "</style>\n",
       "<table border=\"1\" class=\"dataframe\">\n",
       "  <thead>\n",
       "    <tr style=\"text-align: right;\">\n",
       "      <th></th>\n",
       "      <th>1</th>\n",
       "      <th>2</th>\n",
       "      <th>3</th>\n",
       "      <th>4</th>\n",
       "      <th>5</th>\n",
       "    </tr>\n",
       "  </thead>\n",
       "  <tbody>\n",
       "    <tr>\n",
       "      <th>0</th>\n",
       "      <td>0.0</td>\n",
       "      <td>0.0</td>\n",
       "      <td>0.0</td>\n",
       "      <td>0.0</td>\n",
       "      <td>0.0</td>\n",
       "    </tr>\n",
       "    <tr>\n",
       "      <th>1</th>\n",
       "      <td>0.0</td>\n",
       "      <td>0.0</td>\n",
       "      <td>0.0</td>\n",
       "      <td>0.0</td>\n",
       "      <td>0.0</td>\n",
       "    </tr>\n",
       "    <tr>\n",
       "      <th>2</th>\n",
       "      <td>0.0</td>\n",
       "      <td>0.0</td>\n",
       "      <td>0.0</td>\n",
       "      <td>0.0</td>\n",
       "      <td>0.0</td>\n",
       "    </tr>\n",
       "    <tr>\n",
       "      <th>3</th>\n",
       "      <td>0.0</td>\n",
       "      <td>0.0</td>\n",
       "      <td>0.0</td>\n",
       "      <td>0.0</td>\n",
       "      <td>0.0</td>\n",
       "    </tr>\n",
       "    <tr>\n",
       "      <th>4</th>\n",
       "      <td>0.0</td>\n",
       "      <td>0.0</td>\n",
       "      <td>0.0</td>\n",
       "      <td>0.0</td>\n",
       "      <td>0.0</td>\n",
       "    </tr>\n",
       "  </tbody>\n",
       "</table>\n",
       "</div>"
      ],
      "text/plain": [
       "     1    2    3    4    5\n",
       "0  0.0  0.0  0.0  0.0  0.0\n",
       "1  0.0  0.0  0.0  0.0  0.0\n",
       "2  0.0  0.0  0.0  0.0  0.0\n",
       "3  0.0  0.0  0.0  0.0  0.0\n",
       "4  0.0  0.0  0.0  0.0  0.0"
      ]
     },
     "execution_count": 174,
     "metadata": {},
     "output_type": "execute_result"
    }
   ],
   "source": [
    "# doing the convolutions for all regressors for subject 0, region 1\n",
    "regressors_df_sep_conv = regressors_df_sep.apply(lambda x: np.convolve(x, hrf, 'full')[:x.shape[0]])\n",
    "regressors_df_sep_conv.head()"
   ]
  },
  {
   "cell_type": "code",
   "execution_count": 175,
   "metadata": {},
   "outputs": [
    {
     "name": "stdout",
     "output_type": "stream",
     "text": [
      "                            OLS Regression Results                            \n",
      "==============================================================================\n",
      "Dep. Variable:                      1   R-squared:                       0.159\n",
      "Model:                            OLS   Adj. R-squared:                  0.144\n",
      "Method:                 Least Squares   F-statistic:                     10.52\n",
      "Date:                Wed, 11 Nov 2020   Prob (F-statistic):           2.91e-09\n",
      "Time:                        14:58:05   Log-Likelihood:                -377.87\n",
      "No. Observations:                 284   AIC:                             767.7\n",
      "Df Residuals:                     278   BIC:                             789.6\n",
      "Df Model:                           5                                         \n",
      "Covariance Type:            nonrobust                                         \n",
      "==============================================================================\n",
      "                 coef    std err          t      P>|t|      [0.025      0.975]\n",
      "------------------------------------------------------------------------------\n",
      "const         -0.4923      0.092     -5.354      0.000      -0.673      -0.311\n",
      "1              0.8234      0.196      4.207      0.000       0.438       1.209\n",
      "2              1.2646      0.196      6.453      0.000       0.879       1.650\n",
      "3              0.8594      0.191      4.500      0.000       0.483       1.235\n",
      "4              0.6339      0.191      3.318      0.001       0.258       1.010\n",
      "5              0.7270      0.194      3.756      0.000       0.346       1.108\n",
      "==============================================================================\n",
      "Omnibus:                        3.061   Durbin-Watson:                   0.647\n",
      "Prob(Omnibus):                  0.216   Jarque-Bera (JB):                2.242\n",
      "Skew:                          -0.005   Prob(JB):                        0.326\n",
      "Kurtosis:                       2.565   Cond. No.                         5.64\n",
      "==============================================================================\n",
      "\n",
      "Notes:\n",
      "[1] Standard Errors assume that the covariance matrix of the errors is correctly specified.\n"
     ]
    }
   ],
   "source": [
    "# fitting a GLM to region 1 of subject 0\n",
    "X = sm.add_constant(regressors_df_sep_conv)\n",
    "y = subject_0_df.reset_index(drop=True)\n",
    "mod = sm.OLS(y, X)\n",
    "res = mod.fit()\n",
    "print(res.summary())"
   ]
  },
  {
   "cell_type": "markdown",
   "metadata": {},
   "source": [
    "## Hypothesis Testing"
   ]
  },
  {
   "cell_type": "markdown",
   "metadata": {},
   "source": [
    "p-value(5) < 0.05, we can reject H0 for region 1, subject 1 and regressor 5, i.e. regressor 5 has a siginifant beta value."
   ]
  },
  {
   "cell_type": "code",
   "execution_count": null,
   "metadata": {},
   "outputs": [],
   "source": []
  }
 ],
 "metadata": {
  "kernelspec": {
   "display_name": "Python 3",
   "language": "python",
   "name": "python3"
  },
  "language_info": {
   "codemirror_mode": {
    "name": "ipython",
    "version": 3
   },
   "file_extension": ".py",
   "mimetype": "text/x-python",
   "name": "python",
   "nbconvert_exporter": "python",
   "pygments_lexer": "ipython3",
   "version": "3.8.5"
  }
 },
 "nbformat": 4,
 "nbformat_minor": 4
}
