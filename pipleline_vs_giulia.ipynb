{
 "cells": [
  {
   "cell_type": "code",
   "execution_count": 54,
   "metadata": {},
   "outputs": [],
   "source": [
    "import numpy as np\n",
    "import scipy.io\n",
    "import pandas as pd\n",
    "import matplotlib.pyplot as plt"
   ]
  },
  {
   "cell_type": "code",
   "execution_count": 61,
   "metadata": {},
   "outputs": [],
   "source": [
    "activation_path = './GLM/activation.pickle'\n",
    "beta_path = './GLM/beta.pickle'\n",
    "truth_path = './Data/beta_truth/Beta_tfMRI_MOTOR_LR_Glasser360.mat'"
   ]
  },
  {
   "cell_type": "code",
   "execution_count": 101,
   "metadata": {
    "scrolled": true
   },
   "outputs": [],
   "source": [
    "activation = np.load(activation_path, allow_pickle = True)\n",
    "beta = np.load(beta_path, allow_pickle = True)\n",
    "truth = scipy.io.loadmat(truth_path)\n",
    "truth = truth['Beta']"
   ]
  },
  {
   "cell_type": "code",
   "execution_count": 102,
   "metadata": {},
   "outputs": [],
   "source": [
    "m, n, r = truth.shape\n",
    "arr = np.column_stack((np.repeat(np.arange(r),n),truth.reshape(r*n,-1)))\n",
    "df = pd.DataFrame(arr)\n",
    "df.rename(columns={df.columns[0]: \"subject\" }, inplace=True)"
   ]
  },
  {
   "cell_type": "code",
   "execution_count": 103,
   "metadata": {},
   "outputs": [
    {
     "data": {
      "text/html": [
       "<div>\n",
       "<style scoped>\n",
       "    .dataframe tbody tr th:only-of-type {\n",
       "        vertical-align: middle;\n",
       "    }\n",
       "\n",
       "    .dataframe tbody tr th {\n",
       "        vertical-align: top;\n",
       "    }\n",
       "\n",
       "    .dataframe thead th {\n",
       "        text-align: right;\n",
       "    }\n",
       "</style>\n",
       "<table border=\"1\" class=\"dataframe\">\n",
       "  <thead>\n",
       "    <tr style=\"text-align: right;\">\n",
       "      <th></th>\n",
       "      <th>subject</th>\n",
       "      <th>1</th>\n",
       "      <th>2</th>\n",
       "      <th>3</th>\n",
       "      <th>4</th>\n",
       "      <th>5</th>\n",
       "    </tr>\n",
       "  </thead>\n",
       "  <tbody>\n",
       "    <tr>\n",
       "      <th>0</th>\n",
       "      <td>0.0</td>\n",
       "      <td>-0.254942</td>\n",
       "      <td>-0.004428</td>\n",
       "      <td>-0.355615</td>\n",
       "      <td>0.245759</td>\n",
       "      <td>-0.443367</td>\n",
       "    </tr>\n",
       "    <tr>\n",
       "      <th>1</th>\n",
       "      <td>0.0</td>\n",
       "      <td>-1.011004</td>\n",
       "      <td>-0.403151</td>\n",
       "      <td>-0.310814</td>\n",
       "      <td>0.470784</td>\n",
       "      <td>-0.132733</td>\n",
       "    </tr>\n",
       "    <tr>\n",
       "      <th>2</th>\n",
       "      <td>0.0</td>\n",
       "      <td>0.017650</td>\n",
       "      <td>-0.003845</td>\n",
       "      <td>0.410485</td>\n",
       "      <td>-0.243887</td>\n",
       "      <td>-0.302022</td>\n",
       "    </tr>\n",
       "    <tr>\n",
       "      <th>3</th>\n",
       "      <td>0.0</td>\n",
       "      <td>-0.149681</td>\n",
       "      <td>-0.431151</td>\n",
       "      <td>0.392859</td>\n",
       "      <td>0.105513</td>\n",
       "      <td>-0.355546</td>\n",
       "    </tr>\n",
       "    <tr>\n",
       "      <th>4</th>\n",
       "      <td>0.0</td>\n",
       "      <td>0.115817</td>\n",
       "      <td>0.046381</td>\n",
       "      <td>-0.197534</td>\n",
       "      <td>-0.281537</td>\n",
       "      <td>-0.059432</td>\n",
       "    </tr>\n",
       "    <tr>\n",
       "      <th>...</th>\n",
       "      <td>...</td>\n",
       "      <td>...</td>\n",
       "      <td>...</td>\n",
       "      <td>...</td>\n",
       "      <td>...</td>\n",
       "      <td>...</td>\n",
       "    </tr>\n",
       "    <tr>\n",
       "      <th>37895</th>\n",
       "      <td>99.0</td>\n",
       "      <td>-0.753112</td>\n",
       "      <td>0.141005</td>\n",
       "      <td>0.037884</td>\n",
       "      <td>-0.321052</td>\n",
       "      <td>0.144500</td>\n",
       "    </tr>\n",
       "    <tr>\n",
       "      <th>37896</th>\n",
       "      <td>99.0</td>\n",
       "      <td>0.081058</td>\n",
       "      <td>0.241705</td>\n",
       "      <td>0.101413</td>\n",
       "      <td>-0.138364</td>\n",
       "      <td>-0.168187</td>\n",
       "    </tr>\n",
       "    <tr>\n",
       "      <th>37897</th>\n",
       "      <td>99.0</td>\n",
       "      <td>0.329216</td>\n",
       "      <td>-0.197296</td>\n",
       "      <td>0.028896</td>\n",
       "      <td>0.510405</td>\n",
       "      <td>-0.059924</td>\n",
       "    </tr>\n",
       "    <tr>\n",
       "      <th>37898</th>\n",
       "      <td>99.0</td>\n",
       "      <td>0.102545</td>\n",
       "      <td>-0.136843</td>\n",
       "      <td>0.259548</td>\n",
       "      <td>-0.471938</td>\n",
       "      <td>-0.281049</td>\n",
       "    </tr>\n",
       "    <tr>\n",
       "      <th>37899</th>\n",
       "      <td>99.0</td>\n",
       "      <td>-0.838536</td>\n",
       "      <td>-0.124863</td>\n",
       "      <td>-0.127271</td>\n",
       "      <td>-0.273754</td>\n",
       "      <td>-0.358537</td>\n",
       "    </tr>\n",
       "  </tbody>\n",
       "</table>\n",
       "<p>37900 rows × 6 columns</p>\n",
       "</div>"
      ],
      "text/plain": [
       "       subject         1         2         3         4         5\n",
       "0          0.0 -0.254942 -0.004428 -0.355615  0.245759 -0.443367\n",
       "1          0.0 -1.011004 -0.403151 -0.310814  0.470784 -0.132733\n",
       "2          0.0  0.017650 -0.003845  0.410485 -0.243887 -0.302022\n",
       "3          0.0 -0.149681 -0.431151  0.392859  0.105513 -0.355546\n",
       "4          0.0  0.115817  0.046381 -0.197534 -0.281537 -0.059432\n",
       "...        ...       ...       ...       ...       ...       ...\n",
       "37895     99.0 -0.753112  0.141005  0.037884 -0.321052  0.144500\n",
       "37896     99.0  0.081058  0.241705  0.101413 -0.138364 -0.168187\n",
       "37897     99.0  0.329216 -0.197296  0.028896  0.510405 -0.059924\n",
       "37898     99.0  0.102545 -0.136843  0.259548 -0.471938 -0.281049\n",
       "37899     99.0 -0.838536 -0.124863 -0.127271 -0.273754 -0.358537\n",
       "\n",
       "[37900 rows x 6 columns]"
      ]
     },
     "execution_count": 103,
     "metadata": {},
     "output_type": "execute_result"
    }
   ],
   "source": [
    "df"
   ]
  },
  {
   "cell_type": "code",
   "execution_count": 104,
   "metadata": {
    "scrolled": true
   },
   "outputs": [
    {
     "data": {
      "text/plain": [
       "<AxesSubplot:>"
      ]
     },
     "execution_count": 104,
     "metadata": {},
     "output_type": "execute_result"
    },
    {
     "data": {
      "image/png": "[encoded data removed]",
      "text/plain": [
       "<Figure size 432x288 with 1 Axes>"
      ]
     },
     "metadata": {
      "needs_background": "light"
     },
     "output_type": "display_data"
    }
   ],
   "source": [
    "df[1].hist()"
   ]
  },
  {
   "cell_type": "code",
   "execution_count": 105,
   "metadata": {},
   "outputs": [],
   "source": [
    "beta = np.swapaxes(beta, 0, 2)\n",
    "m, n, r = beta.shape\n",
    "arr_b = np.column_stack((np.repeat(np.arange(r),n),beta.reshape(r*n,-1)))\n",
    "df_b = pd.DataFrame(arr_b)\n",
    "df_b.rename(columns={df.columns[0]: \"subject\" }, inplace=True)\n",
    "beta = np.swapaxes(beta, 2, 0)"
   ]
  },
  {
   "cell_type": "code",
   "execution_count": 106,
   "metadata": {},
   "outputs": [
    {
     "data": {
      "text/html": [
       "<div>\n",
       "<style scoped>\n",
       "    .dataframe tbody tr th:only-of-type {\n",
       "        vertical-align: middle;\n",
       "    }\n",
       "\n",
       "    .dataframe tbody tr th {\n",
       "        vertical-align: top;\n",
       "    }\n",
       "\n",
       "    .dataframe thead th {\n",
       "        text-align: right;\n",
       "    }\n",
       "</style>\n",
       "<table border=\"1\" class=\"dataframe\">\n",
       "  <thead>\n",
       "    <tr style=\"text-align: right;\">\n",
       "      <th></th>\n",
       "      <th>0</th>\n",
       "      <th>1</th>\n",
       "      <th>2</th>\n",
       "      <th>3</th>\n",
       "      <th>4</th>\n",
       "      <th>5</th>\n",
       "    </tr>\n",
       "  </thead>\n",
       "  <tbody>\n",
       "    <tr>\n",
       "      <th>0</th>\n",
       "      <td>0.0</td>\n",
       "      <td>0.823382</td>\n",
       "      <td>-0.001801</td>\n",
       "      <td>0.039056</td>\n",
       "      <td>-0.215263</td>\n",
       "      <td>0.392948</td>\n",
       "    </tr>\n",
       "    <tr>\n",
       "      <th>1</th>\n",
       "      <td>0.0</td>\n",
       "      <td>0.334997</td>\n",
       "      <td>0.805958</td>\n",
       "      <td>0.619009</td>\n",
       "      <td>1.061970</td>\n",
       "      <td>0.405822</td>\n",
       "    </tr>\n",
       "    <tr>\n",
       "      <th>2</th>\n",
       "      <td>0.0</td>\n",
       "      <td>0.443589</td>\n",
       "      <td>0.431422</td>\n",
       "      <td>0.791486</td>\n",
       "      <td>0.882021</td>\n",
       "      <td>0.152949</td>\n",
       "    </tr>\n",
       "    <tr>\n",
       "      <th>3</th>\n",
       "      <td>0.0</td>\n",
       "      <td>0.765063</td>\n",
       "      <td>0.366482</td>\n",
       "      <td>0.084664</td>\n",
       "      <td>0.346381</td>\n",
       "      <td>0.393071</td>\n",
       "    </tr>\n",
       "    <tr>\n",
       "      <th>4</th>\n",
       "      <td>0.0</td>\n",
       "      <td>0.656275</td>\n",
       "      <td>0.632581</td>\n",
       "      <td>-0.447524</td>\n",
       "      <td>1.023266</td>\n",
       "      <td>0.605159</td>\n",
       "    </tr>\n",
       "    <tr>\n",
       "      <th>...</th>\n",
       "      <td>...</td>\n",
       "      <td>...</td>\n",
       "      <td>...</td>\n",
       "      <td>...</td>\n",
       "      <td>...</td>\n",
       "      <td>...</td>\n",
       "    </tr>\n",
       "    <tr>\n",
       "      <th>37895</th>\n",
       "      <td>99.0</td>\n",
       "      <td>1.022388</td>\n",
       "      <td>0.341764</td>\n",
       "      <td>0.250944</td>\n",
       "      <td>-0.203080</td>\n",
       "      <td>0.219148</td>\n",
       "    </tr>\n",
       "    <tr>\n",
       "      <th>37896</th>\n",
       "      <td>99.0</td>\n",
       "      <td>0.178572</td>\n",
       "      <td>-0.003052</td>\n",
       "      <td>0.104371</td>\n",
       "      <td>-0.066596</td>\n",
       "      <td>0.899322</td>\n",
       "    </tr>\n",
       "    <tr>\n",
       "      <th>37897</th>\n",
       "      <td>99.0</td>\n",
       "      <td>0.353390</td>\n",
       "      <td>-0.072138</td>\n",
       "      <td>0.448053</td>\n",
       "      <td>0.098867</td>\n",
       "      <td>0.219965</td>\n",
       "    </tr>\n",
       "    <tr>\n",
       "      <th>37898</th>\n",
       "      <td>99.0</td>\n",
       "      <td>-0.039193</td>\n",
       "      <td>0.375013</td>\n",
       "      <td>0.789405</td>\n",
       "      <td>0.276100</td>\n",
       "      <td>0.352119</td>\n",
       "    </tr>\n",
       "    <tr>\n",
       "      <th>37899</th>\n",
       "      <td>99.0</td>\n",
       "      <td>0.322038</td>\n",
       "      <td>0.472079</td>\n",
       "      <td>0.006715</td>\n",
       "      <td>0.322623</td>\n",
       "      <td>0.251871</td>\n",
       "    </tr>\n",
       "  </tbody>\n",
       "</table>\n",
       "<p>37900 rows × 6 columns</p>\n",
       "</div>"
      ],
      "text/plain": [
       "          0         1         2         3         4         5\n",
       "0       0.0  0.823382 -0.001801  0.039056 -0.215263  0.392948\n",
       "1       0.0  0.334997  0.805958  0.619009  1.061970  0.405822\n",
       "2       0.0  0.443589  0.431422  0.791486  0.882021  0.152949\n",
       "3       0.0  0.765063  0.366482  0.084664  0.346381  0.393071\n",
       "4       0.0  0.656275  0.632581 -0.447524  1.023266  0.605159\n",
       "...     ...       ...       ...       ...       ...       ...\n",
       "37895  99.0  1.022388  0.341764  0.250944 -0.203080  0.219148\n",
       "37896  99.0  0.178572 -0.003052  0.104371 -0.066596  0.899322\n",
       "37897  99.0  0.353390 -0.072138  0.448053  0.098867  0.219965\n",
       "37898  99.0 -0.039193  0.375013  0.789405  0.276100  0.352119\n",
       "37899  99.0  0.322038  0.472079  0.006715  0.322623  0.251871\n",
       "\n",
       "[37900 rows x 6 columns]"
      ]
     },
     "execution_count": 106,
     "metadata": {},
     "output_type": "execute_result"
    }
   ],
   "source": [
    "df_b"
   ]
  },
  {
   "cell_type": "code",
   "execution_count": 126,
   "metadata": {
    "scrolled": false
   },
   "outputs": [
    {
     "data": {
      "text/plain": [
       "<AxesSubplot:>"
      ]
     },
     "execution_count": 126,
     "metadata": {},
     "output_type": "execute_result"
    },
    {
     "data": {
      "image/png": "[encoded data removed]",
      "text/plain": [
       "<Figure size 432x288 with 1 Axes>"
      ]
     },
     "metadata": {
      "needs_background": "light"
     },
     "output_type": "display_data"
    }
   ],
   "source": [
    "df_b[5].hist()"
   ]
  },
  {
   "cell_type": "code",
   "execution_count": 121,
   "metadata": {},
   "outputs": [
    {
     "data": {
      "text/plain": [
       "-7682.985629996309"
      ]
     },
     "execution_count": 121,
     "metadata": {},
     "output_type": "execute_result"
    }
   ],
   "source": [
    "(df[1]-df_b[1]).sum()"
   ]
  },
  {
   "cell_type": "code",
   "execution_count": null,
   "metadata": {},
   "outputs": [],
   "source": []
  },
  {
   "cell_type": "code",
   "execution_count": 108,
   "metadata": {},
   "outputs": [],
   "source": [
    "truth = np.swapaxes(truth, 2, 0)"
   ]
  },
  {
   "cell_type": "code",
   "execution_count": 109,
   "metadata": {},
   "outputs": [
    {
     "data": {
      "text/plain": [
       "array([ 0.64571135,  0.20915649,  0.32412457, -0.08389531,  0.76748268])"
      ]
     },
     "execution_count": 109,
     "metadata": {},
     "output_type": "execute_result"
    }
   ],
   "source": [
    "beta[0,1,:]"
   ]
  },
  {
   "cell_type": "code",
   "execution_count": 110,
   "metadata": {},
   "outputs": [
    {
     "data": {
      "text/plain": [
       "array([-0.32281229,  0.02908194,  0.0939077 , -0.59354388,  0.13111449])"
      ]
     },
     "execution_count": 110,
     "metadata": {},
     "output_type": "execute_result"
    }
   ],
   "source": [
    "truth[0,1,:]"
   ]
  },
  {
   "cell_type": "code",
   "execution_count": null,
   "metadata": {},
   "outputs": [],
   "source": []
  },
  {
   "cell_type": "code",
   "execution_count": 132,
   "metadata": {},
   "outputs": [
    {
     "ename": "NameError",
     "evalue": "name '__file__' is not defined",
     "output_type": "error",
     "traceback": [
      "\u001b[0;31m---------------------------------------------------------------------------\u001b[0m",
      "\u001b[0;31mNameError\u001b[0m                                 Traceback (most recent call last)",
      "\u001b[0;32m<ipython-input-132-de2293b9cec7>\u001b[0m in \u001b[0;36m<module>\u001b[0;34m\u001b[0m\n\u001b[1;32m      1\u001b[0m \u001b[0;32mimport\u001b[0m \u001b[0mos\u001b[0m\u001b[0;34m\u001b[0m\u001b[0;34m\u001b[0m\u001b[0m\n\u001b[0;32m----> 2\u001b[0;31m \u001b[0mdirname\u001b[0m \u001b[0;34m=\u001b[0m \u001b[0mos\u001b[0m\u001b[0;34m.\u001b[0m\u001b[0mpath\u001b[0m\u001b[0;34m.\u001b[0m\u001b[0mdirname\u001b[0m\u001b[0;34m(\u001b[0m\u001b[0m__file__\u001b[0m\u001b[0;34m)\u001b[0m\u001b[0;34m\u001b[0m\u001b[0;34m\u001b[0m\u001b[0m\n\u001b[0m\u001b[1;32m      3\u001b[0m \u001b[0mfilename\u001b[0m \u001b[0;34m=\u001b[0m \u001b[0mos\u001b[0m\u001b[0;34m.\u001b[0m\u001b[0mpath\u001b[0m\u001b[0;34m.\u001b[0m\u001b[0mjoin\u001b[0m\u001b[0;34m(\u001b[0m\u001b[0mdir\u001b[0m\u001b[0;34m,\u001b[0m \u001b[0;34m'relative'\u001b[0m\u001b[0;34m,\u001b[0m\u001b[0;34m'path'\u001b[0m\u001b[0;34m,\u001b[0m\u001b[0;34m'to'\u001b[0m\u001b[0;34m,\u001b[0m\u001b[0;34m'file'\u001b[0m\u001b[0;34m,\u001b[0m\u001b[0;34m'you'\u001b[0m\u001b[0;34m,\u001b[0m\u001b[0;34m'want'\u001b[0m\u001b[0;34m)\u001b[0m\u001b[0;34m\u001b[0m\u001b[0;34m\u001b[0m\u001b[0m\n",
      "\u001b[0;31mNameError\u001b[0m: name '__file__' is not defined"
     ]
    }
   ],
   "source": [
    "import os\n",
    "dirname = os.path.dirname(__file__)\n",
    "filename = os.path.join(dirname, 'relative','path','to','file','you','want')"
   ]
  },
  {
   "cell_type": "code",
   "execution_count": null,
   "metadata": {},
   "outputs": [],
   "source": []
  }
 ],
 "metadata": {
  "kernelspec": {
   "display_name": "Python (myenv)",
   "language": "python",
   "name": "myenv"
  },
  "language_info": {
   "codemirror_mode": {
    "name": "ipython",
    "version": 3
   },
   "file_extension": ".py",
   "mimetype": "text/x-python",
   "name": "python",
   "nbconvert_exporter": "python",
   "pygments_lexer": "ipython3",
   "version": "3.8.5"
  }
 },
 "nbformat": 4,
 "nbformat_minor": 4
}
