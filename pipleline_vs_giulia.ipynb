{
 "cells": [
  {
   "cell_type": "code",
   "execution_count": 28,
   "metadata": {},
   "outputs": [],
   "source": [
    "import numpy as np\n",
    "import scipy.io\n",
    "import pandas as pd\n",
    "import matplotlib.pyplot as plt"
   ]
  },
  {
   "cell_type": "code",
   "execution_count": 29,
   "metadata": {},
   "outputs": [],
   "source": [
    "activation_path = './GLM/activation.pickle'\n",
    "beta_path = './GLM/beta.pickle'\n",
    "truth_path = './Data/beta_truth/Beta_tfMRI_MOTOR_LR_Glasser360.mat'"
   ]
  },
  {
   "cell_type": "code",
   "execution_count": 30,
   "metadata": {
    "scrolled": true
   },
   "outputs": [],
   "source": [
    "activation = np.load(activation_path, allow_pickle = True)\n",
    "beta = np.load(beta_path, allow_pickle = True)\n",
    "truth = scipy.io.loadmat(truth_path)\n",
    "truth = truth['Beta']\n",
    "truth = np.swapaxes(truth, 2, 0)"
   ]
  },
  {
   "cell_type": "code",
   "execution_count": 31,
   "metadata": {},
   "outputs": [
    {
     "data": {
      "text/plain": [
       "array([-0.25494214, -0.63766853, -0.0529519 ,  0.0293504 , -0.45453154])"
      ]
     },
     "execution_count": 31,
     "metadata": {},
     "output_type": "execute_result"
    }
   ],
   "source": [
    "truth[0,0,:]"
   ]
  },
  {
   "cell_type": "code",
   "execution_count": 32,
   "metadata": {},
   "outputs": [
    {
     "data": {
      "text/plain": [
       "(100, 379, 5)"
      ]
     },
     "execution_count": 32,
     "metadata": {},
     "output_type": "execute_result"
    }
   ],
   "source": [
    "beta.shape"
   ]
  },
  {
   "cell_type": "code",
   "execution_count": 33,
   "metadata": {},
   "outputs": [
    {
     "data": {
      "text/plain": [
       "(100, 379, 5)"
      ]
     },
     "execution_count": 33,
     "metadata": {},
     "output_type": "execute_result"
    }
   ],
   "source": [
    "truth.shape"
   ]
  },
  {
   "cell_type": "code",
   "execution_count": 34,
   "metadata": {},
   "outputs": [
    {
     "data": {
      "text/plain": [
       "array([-0.25494214, -0.63766853, -0.0529519 ,  0.0293504 , -0.45453154])"
      ]
     },
     "execution_count": 34,
     "metadata": {},
     "output_type": "execute_result"
    }
   ],
   "source": [
    "beta[0,0,:]"
   ]
  },
  {
   "cell_type": "code",
   "execution_count": 35,
   "metadata": {},
   "outputs": [
    {
     "data": {
      "text/plain": [
       "array([0., 0., 0., 1., 0.])"
      ]
     },
     "execution_count": 35,
     "metadata": {},
     "output_type": "execute_result"
    }
   ],
   "source": [
    "activation[0,1,:]"
   ]
  },
  {
   "cell_type": "code",
   "execution_count": 36,
   "metadata": {},
   "outputs": [],
   "source": [
    "m, n, r = beta.shape\n",
    "arr = np.column_stack((np.repeat(np.arange(m),n),beta.reshape(-1, beta.shape[-1])))\n",
    "df = pd.DataFrame(arr)\n",
    "df.rename(columns={df.columns[0]: \"subject\" }, inplace=True)"
   ]
  },
  {
   "cell_type": "code",
   "execution_count": 37,
   "metadata": {},
   "outputs": [
    {
     "data": {
      "text/html": [
       "<div>\n",
       "<style scoped>\n",
       "    .dataframe tbody tr th:only-of-type {\n",
       "        vertical-align: middle;\n",
       "    }\n",
       "\n",
       "    .dataframe tbody tr th {\n",
       "        vertical-align: top;\n",
       "    }\n",
       "\n",
       "    .dataframe thead th {\n",
       "        text-align: right;\n",
       "    }\n",
       "</style>\n",
       "<table border=\"1\" class=\"dataframe\">\n",
       "  <thead>\n",
       "    <tr style=\"text-align: right;\">\n",
       "      <th></th>\n",
       "      <th>subject</th>\n",
       "      <th>1</th>\n",
       "      <th>2</th>\n",
       "      <th>3</th>\n",
       "      <th>4</th>\n",
       "      <th>5</th>\n",
       "    </tr>\n",
       "  </thead>\n",
       "  <tbody>\n",
       "    <tr>\n",
       "      <th>0</th>\n",
       "      <td>0.0</td>\n",
       "      <td>-0.254942</td>\n",
       "      <td>-0.637669</td>\n",
       "      <td>-0.052952</td>\n",
       "      <td>0.029350</td>\n",
       "      <td>-0.454532</td>\n",
       "    </tr>\n",
       "    <tr>\n",
       "      <th>1</th>\n",
       "      <td>0.0</td>\n",
       "      <td>-0.322812</td>\n",
       "      <td>0.029082</td>\n",
       "      <td>0.093908</td>\n",
       "      <td>-0.593544</td>\n",
       "      <td>0.131114</td>\n",
       "    </tr>\n",
       "    <tr>\n",
       "      <th>2</th>\n",
       "      <td>0.0</td>\n",
       "      <td>-0.622510</td>\n",
       "      <td>-0.364706</td>\n",
       "      <td>-0.164954</td>\n",
       "      <td>0.107074</td>\n",
       "      <td>-0.034593</td>\n",
       "    </tr>\n",
       "    <tr>\n",
       "      <th>3</th>\n",
       "      <td>0.0</td>\n",
       "      <td>-0.284301</td>\n",
       "      <td>-0.475949</td>\n",
       "      <td>0.024050</td>\n",
       "      <td>-0.035999</td>\n",
       "      <td>-0.426032</td>\n",
       "    </tr>\n",
       "    <tr>\n",
       "      <th>4</th>\n",
       "      <td>0.0</td>\n",
       "      <td>-0.318083</td>\n",
       "      <td>-0.576688</td>\n",
       "      <td>0.205820</td>\n",
       "      <td>0.039195</td>\n",
       "      <td>-0.436967</td>\n",
       "    </tr>\n",
       "    <tr>\n",
       "      <th>...</th>\n",
       "      <td>...</td>\n",
       "      <td>...</td>\n",
       "      <td>...</td>\n",
       "      <td>...</td>\n",
       "      <td>...</td>\n",
       "      <td>...</td>\n",
       "    </tr>\n",
       "    <tr>\n",
       "      <th>37895</th>\n",
       "      <td>99.0</td>\n",
       "      <td>-0.075156</td>\n",
       "      <td>-0.081275</td>\n",
       "      <td>-0.282101</td>\n",
       "      <td>0.090821</td>\n",
       "      <td>-0.090378</td>\n",
       "    </tr>\n",
       "    <tr>\n",
       "      <th>37896</th>\n",
       "      <td>99.0</td>\n",
       "      <td>0.058744</td>\n",
       "      <td>0.032962</td>\n",
       "      <td>-0.437506</td>\n",
       "      <td>0.048232</td>\n",
       "      <td>0.056889</td>\n",
       "    </tr>\n",
       "    <tr>\n",
       "      <th>37897</th>\n",
       "      <td>99.0</td>\n",
       "      <td>-0.034029</td>\n",
       "      <td>0.023332</td>\n",
       "      <td>-0.203585</td>\n",
       "      <td>0.007171</td>\n",
       "      <td>-0.419598</td>\n",
       "    </tr>\n",
       "    <tr>\n",
       "      <th>37898</th>\n",
       "      <td>99.0</td>\n",
       "      <td>-0.049654</td>\n",
       "      <td>0.289397</td>\n",
       "      <td>0.436186</td>\n",
       "      <td>-0.820580</td>\n",
       "      <td>-0.176926</td>\n",
       "    </tr>\n",
       "    <tr>\n",
       "      <th>37899</th>\n",
       "      <td>99.0</td>\n",
       "      <td>0.221571</td>\n",
       "      <td>0.241025</td>\n",
       "      <td>-0.509618</td>\n",
       "      <td>0.183505</td>\n",
       "      <td>-0.358537</td>\n",
       "    </tr>\n",
       "  </tbody>\n",
       "</table>\n",
       "<p>37900 rows × 6 columns</p>\n",
       "</div>"
      ],
      "text/plain": [
       "       subject         1         2         3         4         5\n",
       "0          0.0 -0.254942 -0.637669 -0.052952  0.029350 -0.454532\n",
       "1          0.0 -0.322812  0.029082  0.093908 -0.593544  0.131114\n",
       "2          0.0 -0.622510 -0.364706 -0.164954  0.107074 -0.034593\n",
       "3          0.0 -0.284301 -0.475949  0.024050 -0.035999 -0.426032\n",
       "4          0.0 -0.318083 -0.576688  0.205820  0.039195 -0.436967\n",
       "...        ...       ...       ...       ...       ...       ...\n",
       "37895     99.0 -0.075156 -0.081275 -0.282101  0.090821 -0.090378\n",
       "37896     99.0  0.058744  0.032962 -0.437506  0.048232  0.056889\n",
       "37897     99.0 -0.034029  0.023332 -0.203585  0.007171 -0.419598\n",
       "37898     99.0 -0.049654  0.289397  0.436186 -0.820580 -0.176926\n",
       "37899     99.0  0.221571  0.241025 -0.509618  0.183505 -0.358537\n",
       "\n",
       "[37900 rows x 6 columns]"
      ]
     },
     "execution_count": 37,
     "metadata": {},
     "output_type": "execute_result"
    }
   ],
   "source": [
    "df"
   ]
  },
  {
   "cell_type": "code",
   "execution_count": 38,
   "metadata": {
    "scrolled": true
   },
   "outputs": [
    {
     "data": {
      "text/plain": [
       "<AxesSubplot:>"
      ]
     },
     "execution_count": 38,
     "metadata": {},
     "output_type": "execute_result"
    },
    {
     "data": {
      "image/png": "[encoded data removed]",
      "text/plain": [
       "<Figure size 432x288 with 1 Axes>"
      ]
     },
     "metadata": {
      "needs_background": "light"
     },
     "output_type": "display_data"
    }
   ],
   "source": [
    "df[1].hist()"
   ]
  },
  {
   "cell_type": "code",
   "execution_count": 39,
   "metadata": {},
   "outputs": [],
   "source": [
    "m, n, r = truth.shape\n",
    "arr = np.column_stack((np.repeat(np.arange(m),n),truth.reshape(-1, truth.shape[-1])))\n",
    "df_t = pd.DataFrame(arr)\n",
    "df_t.rename(columns={df_t.columns[0]: \"subject\" }, inplace=True)"
   ]
  },
  {
   "cell_type": "code",
   "execution_count": 40,
   "metadata": {},
   "outputs": [
    {
     "data": {
      "text/html": [
       "<div>\n",
       "<style scoped>\n",
       "    .dataframe tbody tr th:only-of-type {\n",
       "        vertical-align: middle;\n",
       "    }\n",
       "\n",
       "    .dataframe tbody tr th {\n",
       "        vertical-align: top;\n",
       "    }\n",
       "\n",
       "    .dataframe thead th {\n",
       "        text-align: right;\n",
       "    }\n",
       "</style>\n",
       "<table border=\"1\" class=\"dataframe\">\n",
       "  <thead>\n",
       "    <tr style=\"text-align: right;\">\n",
       "      <th></th>\n",
       "      <th>subject</th>\n",
       "      <th>1</th>\n",
       "      <th>2</th>\n",
       "      <th>3</th>\n",
       "      <th>4</th>\n",
       "      <th>5</th>\n",
       "    </tr>\n",
       "  </thead>\n",
       "  <tbody>\n",
       "    <tr>\n",
       "      <th>0</th>\n",
       "      <td>0.0</td>\n",
       "      <td>-0.254942</td>\n",
       "      <td>-0.637669</td>\n",
       "      <td>-0.052952</td>\n",
       "      <td>0.029350</td>\n",
       "      <td>-0.454532</td>\n",
       "    </tr>\n",
       "    <tr>\n",
       "      <th>1</th>\n",
       "      <td>0.0</td>\n",
       "      <td>-0.322812</td>\n",
       "      <td>0.029082</td>\n",
       "      <td>0.093908</td>\n",
       "      <td>-0.593544</td>\n",
       "      <td>0.131114</td>\n",
       "    </tr>\n",
       "    <tr>\n",
       "      <th>2</th>\n",
       "      <td>0.0</td>\n",
       "      <td>-0.622510</td>\n",
       "      <td>-0.364706</td>\n",
       "      <td>-0.164954</td>\n",
       "      <td>0.107074</td>\n",
       "      <td>-0.034593</td>\n",
       "    </tr>\n",
       "    <tr>\n",
       "      <th>3</th>\n",
       "      <td>0.0</td>\n",
       "      <td>-0.284301</td>\n",
       "      <td>-0.475949</td>\n",
       "      <td>0.024050</td>\n",
       "      <td>-0.035999</td>\n",
       "      <td>-0.426032</td>\n",
       "    </tr>\n",
       "    <tr>\n",
       "      <th>4</th>\n",
       "      <td>0.0</td>\n",
       "      <td>-0.318083</td>\n",
       "      <td>-0.576688</td>\n",
       "      <td>0.205820</td>\n",
       "      <td>0.039195</td>\n",
       "      <td>-0.436967</td>\n",
       "    </tr>\n",
       "    <tr>\n",
       "      <th>...</th>\n",
       "      <td>...</td>\n",
       "      <td>...</td>\n",
       "      <td>...</td>\n",
       "      <td>...</td>\n",
       "      <td>...</td>\n",
       "      <td>...</td>\n",
       "    </tr>\n",
       "    <tr>\n",
       "      <th>37895</th>\n",
       "      <td>99.0</td>\n",
       "      <td>-0.075156</td>\n",
       "      <td>-0.081275</td>\n",
       "      <td>-0.282101</td>\n",
       "      <td>0.090821</td>\n",
       "      <td>-0.090378</td>\n",
       "    </tr>\n",
       "    <tr>\n",
       "      <th>37896</th>\n",
       "      <td>99.0</td>\n",
       "      <td>0.058744</td>\n",
       "      <td>0.032962</td>\n",
       "      <td>-0.437506</td>\n",
       "      <td>0.048232</td>\n",
       "      <td>0.056889</td>\n",
       "    </tr>\n",
       "    <tr>\n",
       "      <th>37897</th>\n",
       "      <td>99.0</td>\n",
       "      <td>-0.034029</td>\n",
       "      <td>0.023332</td>\n",
       "      <td>-0.203585</td>\n",
       "      <td>0.007171</td>\n",
       "      <td>-0.419598</td>\n",
       "    </tr>\n",
       "    <tr>\n",
       "      <th>37898</th>\n",
       "      <td>99.0</td>\n",
       "      <td>-0.049654</td>\n",
       "      <td>0.289397</td>\n",
       "      <td>0.436186</td>\n",
       "      <td>-0.820580</td>\n",
       "      <td>-0.176926</td>\n",
       "    </tr>\n",
       "    <tr>\n",
       "      <th>37899</th>\n",
       "      <td>99.0</td>\n",
       "      <td>0.221571</td>\n",
       "      <td>0.241025</td>\n",
       "      <td>-0.509618</td>\n",
       "      <td>0.183505</td>\n",
       "      <td>-0.358537</td>\n",
       "    </tr>\n",
       "  </tbody>\n",
       "</table>\n",
       "<p>37900 rows × 6 columns</p>\n",
       "</div>"
      ],
      "text/plain": [
       "       subject         1         2         3         4         5\n",
       "0          0.0 -0.254942 -0.637669 -0.052952  0.029350 -0.454532\n",
       "1          0.0 -0.322812  0.029082  0.093908 -0.593544  0.131114\n",
       "2          0.0 -0.622510 -0.364706 -0.164954  0.107074 -0.034593\n",
       "3          0.0 -0.284301 -0.475949  0.024050 -0.035999 -0.426032\n",
       "4          0.0 -0.318083 -0.576688  0.205820  0.039195 -0.436967\n",
       "...        ...       ...       ...       ...       ...       ...\n",
       "37895     99.0 -0.075156 -0.081275 -0.282101  0.090821 -0.090378\n",
       "37896     99.0  0.058744  0.032962 -0.437506  0.048232  0.056889\n",
       "37897     99.0 -0.034029  0.023332 -0.203585  0.007171 -0.419598\n",
       "37898     99.0 -0.049654  0.289397  0.436186 -0.820580 -0.176926\n",
       "37899     99.0  0.221571  0.241025 -0.509618  0.183505 -0.358537\n",
       "\n",
       "[37900 rows x 6 columns]"
      ]
     },
     "execution_count": 40,
     "metadata": {},
     "output_type": "execute_result"
    }
   ],
   "source": [
    "df_t"
   ]
  },
  {
   "cell_type": "code",
   "execution_count": 41,
   "metadata": {
    "scrolled": true
   },
   "outputs": [
    {
     "data": {
      "text/plain": [
       "<AxesSubplot:>"
      ]
     },
     "execution_count": 41,
     "metadata": {},
     "output_type": "execute_result"
    },
    {
     "data": {
      "image/png": "[encoded data removed]",
      "text/plain": [
       "<Figure size 432x288 with 1 Axes>"
      ]
     },
     "metadata": {
      "needs_background": "light"
     },
     "output_type": "display_data"
    }
   ],
   "source": [
    "df_t[1].hist()"
   ]
  },
  {
   "cell_type": "code",
   "execution_count": 42,
   "metadata": {},
   "outputs": [],
   "source": [
    "new = df.merge(df_t, left_index = True, right_index = True)"
   ]
  },
  {
   "cell_type": "code",
   "execution_count": 43,
   "metadata": {},
   "outputs": [
    {
     "data": {
      "text/plain": [
       "<matplotlib.collections.PathCollection at 0x114575c10>"
      ]
     },
     "execution_count": 43,
     "metadata": {},
     "output_type": "execute_result"
    },
    {
     "data": {
      "image/png": "[encoded data removed]",
      "text/plain": [
       "<Figure size 432x288 with 1 Axes>"
      ]
     },
     "metadata": {
      "needs_background": "light"
     },
     "output_type": "display_data"
    }
   ],
   "source": [
    "plt.scatter(new['1_x'], new['1_y'], marker = '.', s = .5)"
   ]
  },
  {
   "cell_type": "code",
   "execution_count": 44,
   "metadata": {},
   "outputs": [
    {
     "data": {
      "text/plain": [
       "<matplotlib.collections.PathCollection at 0x11462fdf0>"
      ]
     },
     "execution_count": 44,
     "metadata": {},
     "output_type": "execute_result"
    },
    {
     "data": {
      "image/png": "[encoded data removed]",
      "text/plain": [
       "<Figure size 432x288 with 1 Axes>"
      ]
     },
     "metadata": {
      "needs_background": "light"
     },
     "output_type": "display_data"
    }
   ],
   "source": [
    "plt.scatter(new['2_x'], new['2_y'], marker = '.', s = .5)"
   ]
  },
  {
   "cell_type": "code",
   "execution_count": 45,
   "metadata": {},
   "outputs": [
    {
     "data": {
      "text/plain": [
       "<matplotlib.collections.PathCollection at 0x11459efa0>"
      ]
     },
     "execution_count": 45,
     "metadata": {},
     "output_type": "execute_result"
    },
    {
     "data": {
      "image/png": "[encoded data removed]",
      "text/plain": [
       "<Figure size 432x288 with 1 Axes>"
      ]
     },
     "metadata": {
      "needs_background": "light"
     },
     "output_type": "display_data"
    }
   ],
   "source": [
    "plt.scatter(new['3_x'], new['3_y'], marker = '.', s = .5)"
   ]
  },
  {
   "cell_type": "code",
   "execution_count": 46,
   "metadata": {
    "scrolled": true
   },
   "outputs": [
    {
     "data": {
      "text/plain": [
       "<function matplotlib.pyplot.show(close=None, block=None)>"
      ]
     },
     "execution_count": 46,
     "metadata": {},
     "output_type": "execute_result"
    },
    {
     "data": {
      "image/png": "[encoded data removed]",
      "text/plain": [
       "<Figure size 432x288 with 1 Axes>"
      ]
     },
     "metadata": {
      "needs_background": "light"
     },
     "output_type": "display_data"
    }
   ],
   "source": [
    "plt.boxplot(df[df['subject'] == 0][1]-df_t[df_t['subject'] == 0][1])\n",
    "plt.show"
   ]
  },
  {
   "cell_type": "code",
   "execution_count": 47,
   "metadata": {},
   "outputs": [
    {
     "data": {
      "text/plain": [
       "1.0"
      ]
     },
     "execution_count": 47,
     "metadata": {},
     "output_type": "execute_result"
    }
   ],
   "source": [
    "df[1].corr(df_t[1])"
   ]
  },
  {
   "cell_type": "code",
   "execution_count": null,
   "metadata": {},
   "outputs": [],
   "source": []
  }
 ],
 "metadata": {
  "kernelspec": {
   "display_name": "Python (myenv)",
   "language": "python",
   "name": "myenv"
  },
  "language_info": {
   "codemirror_mode": {
    "name": "ipython",
    "version": 3
   },
   "file_extension": ".py",
   "mimetype": "text/x-python",
   "name": "python",
   "nbconvert_exporter": "python",
   "pygments_lexer": "ipython3",
   "version": "3.8.5"
  }
 },
 "nbformat": 4,
 "nbformat_minor": 4
}
