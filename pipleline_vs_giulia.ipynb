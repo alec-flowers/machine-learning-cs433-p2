{
 "cells": [
  {
   "cell_type": "code",
   "execution_count": 54,
   "metadata": {},
   "outputs": [],
   "source": [
    "import numpy as np\n",
    "import scipy.io\n",
    "import pandas as pd\n",
    "import matplotlib.pyplot as plt"
   ]
  },
  {
   "cell_type": "code",
   "execution_count": 138,
   "metadata": {},
   "outputs": [],
   "source": [
    "activation_path = './GLM/activation.pickle'\n",
    "beta_path = './GLM/beta.pickle'\n",
    "truth_path = './Data/beta_truth/Beta_tfMRI_MOTOR_LR_Glasser360.mat'"
   ]
  },
  {
   "cell_type": "code",
   "execution_count": 142,
   "metadata": {
    "scrolled": true
   },
   "outputs": [],
   "source": [
    "activation = np.load(activation_path, allow_pickle = True)\n",
    "beta = np.load(beta_path, allow_pickle = True)\n",
    "truth = scipy.io.loadmat(truth_path)\n",
    "truth = truth['Beta']\n",
    "truth = np.swapaxes(truth, 2, 0)"
   ]
  },
  {
   "cell_type": "code",
   "execution_count": 143,
   "metadata": {},
   "outputs": [
    {
     "data": {
      "text/plain": [
       "(100, 379, 5)"
      ]
     },
     "execution_count": 143,
     "metadata": {},
     "output_type": "execute_result"
    }
   ],
   "source": [
    "beta.shape"
   ]
  },
  {
   "cell_type": "code",
   "execution_count": 144,
   "metadata": {},
   "outputs": [
    {
     "data": {
      "text/plain": [
       "(100, 379, 5)"
      ]
     },
     "execution_count": 144,
     "metadata": {},
     "output_type": "execute_result"
    }
   ],
   "source": [
    "truth.shape"
   ]
  },
  {
   "cell_type": "code",
   "execution_count": 149,
   "metadata": {},
   "outputs": [
    {
     "data": {
      "text/plain": [
       "array([ 0.64571135,  0.20915649,  0.32412457, -0.08389531,  0.76748268])"
      ]
     },
     "execution_count": 149,
     "metadata": {},
     "output_type": "execute_result"
    }
   ],
   "source": [
    "beta[0,1,:]"
   ]
  },
  {
   "cell_type": "code",
   "execution_count": 150,
   "metadata": {},
   "outputs": [
    {
     "data": {
      "text/plain": [
       "array([-0.32281229,  0.02908194,  0.0939077 , -0.59354388,  0.13111449])"
      ]
     },
     "execution_count": 150,
     "metadata": {},
     "output_type": "execute_result"
    }
   ],
   "source": [
    "truth[0,1,:]"
   ]
  },
  {
   "cell_type": "code",
   "execution_count": 151,
   "metadata": {},
   "outputs": [],
   "source": [
    "m, n, r = beta.shape\n",
    "arr = np.column_stack((np.repeat(np.arange(m),n),beta.reshape(-1, beta.shape[-1])))\n",
    "df = pd.DataFrame(arr)\n",
    "df.rename(columns={df.columns[0]: \"subject\" }, inplace=True)"
   ]
  },
  {
   "cell_type": "code",
   "execution_count": 152,
   "metadata": {},
   "outputs": [
    {
     "data": {
      "text/html": [
       "<div>\n",
       "<style scoped>\n",
       "    .dataframe tbody tr th:only-of-type {\n",
       "        vertical-align: middle;\n",
       "    }\n",
       "\n",
       "    .dataframe tbody tr th {\n",
       "        vertical-align: top;\n",
       "    }\n",
       "\n",
       "    .dataframe thead th {\n",
       "        text-align: right;\n",
       "    }\n",
       "</style>\n",
       "<table border=\"1\" class=\"dataframe\">\n",
       "  <thead>\n",
       "    <tr style=\"text-align: right;\">\n",
       "      <th></th>\n",
       "      <th>subject</th>\n",
       "      <th>1</th>\n",
       "      <th>2</th>\n",
       "      <th>3</th>\n",
       "      <th>4</th>\n",
       "      <th>5</th>\n",
       "    </tr>\n",
       "  </thead>\n",
       "  <tbody>\n",
       "    <tr>\n",
       "      <th>0</th>\n",
       "      <td>0.0</td>\n",
       "      <td>0.823382</td>\n",
       "      <td>1.264593</td>\n",
       "      <td>0.859434</td>\n",
       "      <td>0.633950</td>\n",
       "      <td>0.726995</td>\n",
       "    </tr>\n",
       "    <tr>\n",
       "      <th>1</th>\n",
       "      <td>0.0</td>\n",
       "      <td>0.645711</td>\n",
       "      <td>0.209156</td>\n",
       "      <td>0.324125</td>\n",
       "      <td>-0.083895</td>\n",
       "      <td>0.767483</td>\n",
       "    </tr>\n",
       "    <tr>\n",
       "      <th>2</th>\n",
       "      <td>0.0</td>\n",
       "      <td>-0.160784</td>\n",
       "      <td>0.545954</td>\n",
       "      <td>0.502011</td>\n",
       "      <td>0.230917</td>\n",
       "      <td>0.155272</td>\n",
       "    </tr>\n",
       "    <tr>\n",
       "      <th>3</th>\n",
       "      <td>0.0</td>\n",
       "      <td>0.838640</td>\n",
       "      <td>1.151934</td>\n",
       "      <td>0.866444</td>\n",
       "      <td>0.469562</td>\n",
       "      <td>0.853789</td>\n",
       "    </tr>\n",
       "    <tr>\n",
       "      <th>4</th>\n",
       "      <td>0.0</td>\n",
       "      <td>1.067913</td>\n",
       "      <td>1.147047</td>\n",
       "      <td>0.809226</td>\n",
       "      <td>0.465858</td>\n",
       "      <td>0.858235</td>\n",
       "    </tr>\n",
       "    <tr>\n",
       "      <th>...</th>\n",
       "      <td>...</td>\n",
       "      <td>...</td>\n",
       "      <td>...</td>\n",
       "      <td>...</td>\n",
       "      <td>...</td>\n",
       "      <td>...</td>\n",
       "    </tr>\n",
       "    <tr>\n",
       "      <th>37895</th>\n",
       "      <td>99.0</td>\n",
       "      <td>-0.170453</td>\n",
       "      <td>0.440746</td>\n",
       "      <td>0.035716</td>\n",
       "      <td>0.040898</td>\n",
       "      <td>0.582383</td>\n",
       "    </tr>\n",
       "    <tr>\n",
       "      <th>37896</th>\n",
       "      <td>99.0</td>\n",
       "      <td>0.073248</td>\n",
       "      <td>0.607011</td>\n",
       "      <td>0.155428</td>\n",
       "      <td>0.352440</td>\n",
       "      <td>0.721735</td>\n",
       "    </tr>\n",
       "    <tr>\n",
       "      <th>37897</th>\n",
       "      <td>99.0</td>\n",
       "      <td>0.183241</td>\n",
       "      <td>0.433418</td>\n",
       "      <td>-0.122943</td>\n",
       "      <td>0.121283</td>\n",
       "      <td>0.415079</td>\n",
       "    </tr>\n",
       "    <tr>\n",
       "      <th>37898</th>\n",
       "      <td>99.0</td>\n",
       "      <td>0.434251</td>\n",
       "      <td>0.310374</td>\n",
       "      <td>0.321902</td>\n",
       "      <td>-0.064321</td>\n",
       "      <td>0.505038</td>\n",
       "    </tr>\n",
       "    <tr>\n",
       "      <th>37899</th>\n",
       "      <td>99.0</td>\n",
       "      <td>0.024172</td>\n",
       "      <td>0.234152</td>\n",
       "      <td>-0.308344</td>\n",
       "      <td>0.164607</td>\n",
       "      <td>0.251871</td>\n",
       "    </tr>\n",
       "  </tbody>\n",
       "</table>\n",
       "<p>37900 rows × 6 columns</p>\n",
       "</div>"
      ],
      "text/plain": [
       "       subject         1         2         3         4         5\n",
       "0          0.0  0.823382  1.264593  0.859434  0.633950  0.726995\n",
       "1          0.0  0.645711  0.209156  0.324125 -0.083895  0.767483\n",
       "2          0.0 -0.160784  0.545954  0.502011  0.230917  0.155272\n",
       "3          0.0  0.838640  1.151934  0.866444  0.469562  0.853789\n",
       "4          0.0  1.067913  1.147047  0.809226  0.465858  0.858235\n",
       "...        ...       ...       ...       ...       ...       ...\n",
       "37895     99.0 -0.170453  0.440746  0.035716  0.040898  0.582383\n",
       "37896     99.0  0.073248  0.607011  0.155428  0.352440  0.721735\n",
       "37897     99.0  0.183241  0.433418 -0.122943  0.121283  0.415079\n",
       "37898     99.0  0.434251  0.310374  0.321902 -0.064321  0.505038\n",
       "37899     99.0  0.024172  0.234152 -0.308344  0.164607  0.251871\n",
       "\n",
       "[37900 rows x 6 columns]"
      ]
     },
     "execution_count": 152,
     "metadata": {},
     "output_type": "execute_result"
    }
   ],
   "source": [
    "df"
   ]
  },
  {
   "cell_type": "code",
   "execution_count": 153,
   "metadata": {
    "scrolled": true
   },
   "outputs": [
    {
     "data": {
      "text/plain": [
       "<AxesSubplot:>"
      ]
     },
     "execution_count": 153,
     "metadata": {},
     "output_type": "execute_result"
    },
    {
     "data": {
      "image/png": "[encoded data removed]",
      "text/plain": [
       "<Figure size 432x288 with 1 Axes>"
      ]
     },
     "metadata": {
      "needs_background": "light"
     },
     "output_type": "display_data"
    }
   ],
   "source": [
    "df[1].hist()"
   ]
  },
  {
   "cell_type": "code",
   "execution_count": 154,
   "metadata": {},
   "outputs": [],
   "source": [
    "m, n, r = truth.shape\n",
    "arr = np.column_stack((np.repeat(np.arange(m),n),truth.reshape(-1, truth.shape[-1])))\n",
    "df_t = pd.DataFrame(arr)\n",
    "df_t.rename(columns={df_t.columns[0]: \"subject\" }, inplace=True)"
   ]
  },
  {
   "cell_type": "code",
   "execution_count": 155,
   "metadata": {},
   "outputs": [
    {
     "data": {
      "text/html": [
       "<div>\n",
       "<style scoped>\n",
       "    .dataframe tbody tr th:only-of-type {\n",
       "        vertical-align: middle;\n",
       "    }\n",
       "\n",
       "    .dataframe tbody tr th {\n",
       "        vertical-align: top;\n",
       "    }\n",
       "\n",
       "    .dataframe thead th {\n",
       "        text-align: right;\n",
       "    }\n",
       "</style>\n",
       "<table border=\"1\" class=\"dataframe\">\n",
       "  <thead>\n",
       "    <tr style=\"text-align: right;\">\n",
       "      <th></th>\n",
       "      <th>subject</th>\n",
       "      <th>1</th>\n",
       "      <th>2</th>\n",
       "      <th>3</th>\n",
       "      <th>4</th>\n",
       "      <th>5</th>\n",
       "    </tr>\n",
       "  </thead>\n",
       "  <tbody>\n",
       "    <tr>\n",
       "      <th>0</th>\n",
       "      <td>0.0</td>\n",
       "      <td>-0.254942</td>\n",
       "      <td>-0.637669</td>\n",
       "      <td>-0.052952</td>\n",
       "      <td>0.029350</td>\n",
       "      <td>-0.454532</td>\n",
       "    </tr>\n",
       "    <tr>\n",
       "      <th>1</th>\n",
       "      <td>0.0</td>\n",
       "      <td>-0.322812</td>\n",
       "      <td>0.029082</td>\n",
       "      <td>0.093908</td>\n",
       "      <td>-0.593544</td>\n",
       "      <td>0.131114</td>\n",
       "    </tr>\n",
       "    <tr>\n",
       "      <th>2</th>\n",
       "      <td>0.0</td>\n",
       "      <td>-0.622510</td>\n",
       "      <td>-0.364706</td>\n",
       "      <td>-0.164954</td>\n",
       "      <td>0.107074</td>\n",
       "      <td>-0.034593</td>\n",
       "    </tr>\n",
       "    <tr>\n",
       "      <th>3</th>\n",
       "      <td>0.0</td>\n",
       "      <td>-0.284301</td>\n",
       "      <td>-0.475949</td>\n",
       "      <td>0.024050</td>\n",
       "      <td>-0.035999</td>\n",
       "      <td>-0.426032</td>\n",
       "    </tr>\n",
       "    <tr>\n",
       "      <th>4</th>\n",
       "      <td>0.0</td>\n",
       "      <td>-0.318083</td>\n",
       "      <td>-0.576688</td>\n",
       "      <td>0.205820</td>\n",
       "      <td>0.039195</td>\n",
       "      <td>-0.436967</td>\n",
       "    </tr>\n",
       "    <tr>\n",
       "      <th>...</th>\n",
       "      <td>...</td>\n",
       "      <td>...</td>\n",
       "      <td>...</td>\n",
       "      <td>...</td>\n",
       "      <td>...</td>\n",
       "      <td>...</td>\n",
       "    </tr>\n",
       "    <tr>\n",
       "      <th>37895</th>\n",
       "      <td>99.0</td>\n",
       "      <td>-0.075156</td>\n",
       "      <td>-0.081275</td>\n",
       "      <td>-0.282101</td>\n",
       "      <td>0.090821</td>\n",
       "      <td>-0.090378</td>\n",
       "    </tr>\n",
       "    <tr>\n",
       "      <th>37896</th>\n",
       "      <td>99.0</td>\n",
       "      <td>0.058744</td>\n",
       "      <td>0.032962</td>\n",
       "      <td>-0.437506</td>\n",
       "      <td>0.048232</td>\n",
       "      <td>0.056889</td>\n",
       "    </tr>\n",
       "    <tr>\n",
       "      <th>37897</th>\n",
       "      <td>99.0</td>\n",
       "      <td>-0.034029</td>\n",
       "      <td>0.023332</td>\n",
       "      <td>-0.203585</td>\n",
       "      <td>0.007171</td>\n",
       "      <td>-0.419598</td>\n",
       "    </tr>\n",
       "    <tr>\n",
       "      <th>37898</th>\n",
       "      <td>99.0</td>\n",
       "      <td>-0.049654</td>\n",
       "      <td>0.289397</td>\n",
       "      <td>0.436186</td>\n",
       "      <td>-0.820580</td>\n",
       "      <td>-0.176926</td>\n",
       "    </tr>\n",
       "    <tr>\n",
       "      <th>37899</th>\n",
       "      <td>99.0</td>\n",
       "      <td>0.221571</td>\n",
       "      <td>0.241025</td>\n",
       "      <td>-0.509618</td>\n",
       "      <td>0.183505</td>\n",
       "      <td>-0.358537</td>\n",
       "    </tr>\n",
       "  </tbody>\n",
       "</table>\n",
       "<p>37900 rows × 6 columns</p>\n",
       "</div>"
      ],
      "text/plain": [
       "       subject         1         2         3         4         5\n",
       "0          0.0 -0.254942 -0.637669 -0.052952  0.029350 -0.454532\n",
       "1          0.0 -0.322812  0.029082  0.093908 -0.593544  0.131114\n",
       "2          0.0 -0.622510 -0.364706 -0.164954  0.107074 -0.034593\n",
       "3          0.0 -0.284301 -0.475949  0.024050 -0.035999 -0.426032\n",
       "4          0.0 -0.318083 -0.576688  0.205820  0.039195 -0.436967\n",
       "...        ...       ...       ...       ...       ...       ...\n",
       "37895     99.0 -0.075156 -0.081275 -0.282101  0.090821 -0.090378\n",
       "37896     99.0  0.058744  0.032962 -0.437506  0.048232  0.056889\n",
       "37897     99.0 -0.034029  0.023332 -0.203585  0.007171 -0.419598\n",
       "37898     99.0 -0.049654  0.289397  0.436186 -0.820580 -0.176926\n",
       "37899     99.0  0.221571  0.241025 -0.509618  0.183505 -0.358537\n",
       "\n",
       "[37900 rows x 6 columns]"
      ]
     },
     "execution_count": 155,
     "metadata": {},
     "output_type": "execute_result"
    }
   ],
   "source": [
    "df_t"
   ]
  },
  {
   "cell_type": "code",
   "execution_count": 126,
   "metadata": {
    "scrolled": false
   },
   "outputs": [
    {
     "data": {
      "text/plain": [
       "<AxesSubplot:>"
      ]
     },
     "execution_count": 126,
     "metadata": {},
     "output_type": "execute_result"
    },
    {
     "data": {
      "image/png": "[encoded data removed]",
      "text/plain": [
       "<Figure size 432x288 with 1 Axes>"
      ]
     },
     "metadata": {
      "needs_background": "light"
     },
     "output_type": "display_data"
    }
   ],
   "source": [
    "df_b[5].hist()"
   ]
  },
  {
   "cell_type": "code",
   "execution_count": 158,
   "metadata": {
    "scrolled": true
   },
   "outputs": [
    {
     "data": {
      "text/plain": [
       "7470.538665282393"
      ]
     },
     "execution_count": 158,
     "metadata": {},
     "output_type": "execute_result"
    }
   ],
   "source": [
    "(df[1]-df_t[1]).sum()"
   ]
  },
  {
   "cell_type": "code",
   "execution_count": 167,
   "metadata": {},
   "outputs": [
    {
     "data": {
      "text/plain": [
       "0.2299896712566481"
      ]
     },
     "execution_count": 167,
     "metadata": {},
     "output_type": "execute_result"
    }
   ],
   "source": [
    "df[5].corr(df_t[5])"
   ]
  },
  {
   "cell_type": "code",
   "execution_count": null,
   "metadata": {},
   "outputs": [],
   "source": []
  }
 ],
 "metadata": {
  "kernelspec": {
   "display_name": "Python (myenv)",
   "language": "python",
   "name": "myenv"
  },
  "language_info": {
   "codemirror_mode": {
    "name": "ipython",
    "version": 3
   },
   "file_extension": ".py",
   "mimetype": "text/x-python",
   "name": "python",
   "nbconvert_exporter": "python",
   "pygments_lexer": "ipython3",
   "version": "3.8.5"
  }
 },
 "nbformat": 4,
 "nbformat_minor": 4
}
